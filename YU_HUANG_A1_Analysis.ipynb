{
 "cells": [
  {
   "cell_type": "markdown",
   "metadata": {},
   "source": [
    "***\n",
    "***\n",
    "***\n",
    "\n",
    "# A1: Regression-Based Analysis (Individual)\n",
    "<strong style=\"font-size: 24px\">Machine Learning</strong><br><br>\n",
    "<b style=\"font-size: 18px\">Student : Yu Huang</b> <br>\n",
    "Hult International Business School\n",
    "\n",
    "***\n",
    "***\n",
    "***"
   ]
  },
  {
   "cell_type": "markdown",
   "metadata": {},
   "source": [
    "<h2>STEP I: Dataset Exploration</h2><br>"
   ]
  },
  {
   "cell_type": "markdown",
   "metadata": {},
   "source": [
    "<h3>Part I: Fundamental Dataset Exploration</h3><br>\n",
    "\n",
    "Import the following packages:\n",
    "* pandas (as pd)\n",
    "* random (as rand)\n",
    "* seaborn (as sns)\n",
    "* matplotlib.pyplot (as plt)\n",
    "\n",
    "Then, load the Apprentice_Chef_Dataset into Python."
   ]
  },
  {
   "cell_type": "markdown",
   "metadata": {},
   "source": [
    "################################################################################\n",
    "Import Packages\n",
    "\n",
    "################################################################################"
   ]
  },
  {
   "cell_type": "code",
   "execution_count": 1,
   "metadata": {},
   "outputs": [],
   "source": [
    "# importing libraries\n",
    "import pandas                  as pd # data science essentials\n",
    "import random                  as rand\n",
    "import matplotlib.pyplot       as plt # data visualization\n",
    "import seaborn                 as sns # enhanced data visualization\n",
    "import statsmodels.formula.api as smf # linear regression (statsmodels)\n",
    "from sklearn.model_selection import train_test_split # train/test split\n",
    "from  sklearn.linear_model import LinearRegression # linear regression (scikit-learn)\n",
    "import sklearn.linear_model # linear models\n",
    "\n",
    "# new libraries\n",
    "from sklearn.neighbors import KNeighborsRegressor # KNN for Regression\n",
    "from sklearn.preprocessing import StandardScaler # standard scaler\n",
    "from sklearn.ensemble import RandomForestRegressor\n",
    "from sklearn.ensemble import GradientBoostingRegressor"
   ]
  },
  {
   "cell_type": "markdown",
   "metadata": {},
   "source": [
    "#################################################################################\n",
    "Load Data\n",
    "################################################################################"
   ]
  },
  {
   "cell_type": "code",
   "execution_count": 2,
   "metadata": {},
   "outputs": [],
   "source": [
    "# setting pandas print options\n",
    "pd.set_option('display.max_rows', 500)     \n",
    "pd.set_option('display.max_columns', 500)  \n",
    "pd.set_option('display.width', 1000)       \n",
    "\n",
    "\n",
    "# specifying file name\n",
    "file = 'Apprentice_Chef_Dataset.xlsx'\n",
    "\n",
    "# reading the file into Python\n",
    "original_df = pd.read_excel(file)"
   ]
  },
  {
   "cell_type": "markdown",
   "metadata": {},
   "source": [
    " Display general information about each variable, including types and number of non-missing values."
   ]
  },
  {
   "cell_type": "code",
   "execution_count": 3,
   "metadata": {},
   "outputs": [
    {
     "name": "stdout",
     "output_type": "stream",
     "text": [
      "<class 'pandas.core.frame.DataFrame'>\n",
      "RangeIndex: 1946 entries, 0 to 1945\n",
      "Data columns (total 29 columns):\n",
      " #   Column                        Non-Null Count  Dtype  \n",
      "---  ------                        --------------  -----  \n",
      " 0   REVENUE                       1946 non-null   float64\n",
      " 1   CROSS_SELL_SUCCESS            1946 non-null   int64  \n",
      " 2   NAME                          1946 non-null   object \n",
      " 3   EMAIL                         1946 non-null   object \n",
      " 4   FIRST_NAME                    1946 non-null   object \n",
      " 5   FAMILY_NAME                   1899 non-null   object \n",
      " 6   TOTAL_MEALS_ORDERED           1946 non-null   int64  \n",
      " 7   UNIQUE_MEALS_PURCH            1946 non-null   int64  \n",
      " 8   CONTACTS_W_CUSTOMER_SERVICE   1946 non-null   int64  \n",
      " 9   PRODUCT_CATEGORIES_VIEWED     1946 non-null   int64  \n",
      " 10  AVG_TIME_PER_SITE_VISIT       1946 non-null   float64\n",
      " 11  MOBILE_NUMBER                 1946 non-null   int64  \n",
      " 12  CANCELLATIONS_BEFORE_NOON     1946 non-null   int64  \n",
      " 13  CANCELLATIONS_AFTER_NOON      1946 non-null   int64  \n",
      " 14  TASTES_AND_PREFERENCES        1946 non-null   int64  \n",
      " 15  PC_LOGINS                     1946 non-null   int64  \n",
      " 16  MOBILE_LOGINS                 1946 non-null   int64  \n",
      " 17  WEEKLY_PLAN                   1946 non-null   int64  \n",
      " 18  EARLY_DELIVERIES              1946 non-null   int64  \n",
      " 19  LATE_DELIVERIES               1946 non-null   int64  \n",
      " 20  PACKAGE_LOCKER                1946 non-null   int64  \n",
      " 21  REFRIGERATED_LOCKER           1946 non-null   int64  \n",
      " 22  FOLLOWED_RECOMMENDATIONS_PCT  1946 non-null   int64  \n",
      " 23  AVG_PREP_VID_TIME             1946 non-null   float64\n",
      " 24  LARGEST_ORDER_SIZE            1946 non-null   int64  \n",
      " 25  MASTER_CLASSES_ATTENDED       1946 non-null   int64  \n",
      " 26  MEDIAN_MEAL_RATING            1946 non-null   int64  \n",
      " 27  AVG_CLICKS_PER_VISIT          1946 non-null   int64  \n",
      " 28  TOTAL_PHOTOS_VIEWED           1946 non-null   int64  \n",
      "dtypes: float64(3), int64(22), object(4)\n",
      "memory usage: 441.0+ KB\n"
     ]
    }
   ],
   "source": [
    "# INFOrmation about each variable\n",
    "chef = original_df.copy()\n",
    "chef.info()"
   ]
  },
  {
   "cell_type": "markdown",
   "metadata": {},
   "source": [
    "Insight from the Info: There are 29 variables , 1946 customers were recorded. There is missing value on FAMILY_NAME. "
   ]
  },
  {
   "cell_type": "markdown",
   "metadata": {},
   "source": [
    " DESCRIBE each quantitative column using descriptive statistics. Round to two decimal places."
   ]
  },
  {
   "cell_type": "code",
   "execution_count": 4,
   "metadata": {},
   "outputs": [
    {
     "data": {
      "text/html": [
       "<div>\n",
       "<style scoped>\n",
       "    .dataframe tbody tr th:only-of-type {\n",
       "        vertical-align: middle;\n",
       "    }\n",
       "\n",
       "    .dataframe tbody tr th {\n",
       "        vertical-align: top;\n",
       "    }\n",
       "\n",
       "    .dataframe thead th {\n",
       "        text-align: right;\n",
       "    }\n",
       "</style>\n",
       "<table border=\"1\" class=\"dataframe\">\n",
       "  <thead>\n",
       "    <tr style=\"text-align: right;\">\n",
       "      <th></th>\n",
       "      <th>CROSS_SELL_SUCCESS</th>\n",
       "      <th>TOTAL_MEALS_ORDERED</th>\n",
       "      <th>UNIQUE_MEALS_PURCH</th>\n",
       "      <th>CONTACTS_W_CUSTOMER_SERVICE</th>\n",
       "      <th>PRODUCT_CATEGORIES_VIEWED</th>\n",
       "      <th>AVG_TIME_PER_SITE_VISIT</th>\n",
       "      <th>MOBILE_NUMBER</th>\n",
       "      <th>CANCELLATIONS_BEFORE_NOON</th>\n",
       "      <th>CANCELLATIONS_AFTER_NOON</th>\n",
       "      <th>TASTES_AND_PREFERENCES</th>\n",
       "      <th>PC_LOGINS</th>\n",
       "      <th>MOBILE_LOGINS</th>\n",
       "      <th>WEEKLY_PLAN</th>\n",
       "      <th>EARLY_DELIVERIES</th>\n",
       "      <th>LATE_DELIVERIES</th>\n",
       "      <th>PACKAGE_LOCKER</th>\n",
       "      <th>REFRIGERATED_LOCKER</th>\n",
       "      <th>FOLLOWED_RECOMMENDATIONS_PCT</th>\n",
       "      <th>AVG_PREP_VID_TIME</th>\n",
       "      <th>LARGEST_ORDER_SIZE</th>\n",
       "      <th>MASTER_CLASSES_ATTENDED</th>\n",
       "      <th>MEDIAN_MEAL_RATING</th>\n",
       "      <th>AVG_CLICKS_PER_VISIT</th>\n",
       "      <th>TOTAL_PHOTOS_VIEWED</th>\n",
       "    </tr>\n",
       "  </thead>\n",
       "  <tbody>\n",
       "    <tr>\n",
       "      <th>count</th>\n",
       "      <td>1946.00</td>\n",
       "      <td>1946.00</td>\n",
       "      <td>1946.0</td>\n",
       "      <td>1946.00</td>\n",
       "      <td>1946.00</td>\n",
       "      <td>1946.00</td>\n",
       "      <td>1946.00</td>\n",
       "      <td>1946.00</td>\n",
       "      <td>1946.00</td>\n",
       "      <td>1946.00</td>\n",
       "      <td>1946.00</td>\n",
       "      <td>1946.00</td>\n",
       "      <td>1946.00</td>\n",
       "      <td>1946.00</td>\n",
       "      <td>1946.00</td>\n",
       "      <td>1946.00</td>\n",
       "      <td>1946.00</td>\n",
       "      <td>1946.00</td>\n",
       "      <td>1946.00</td>\n",
       "      <td>1946.00</td>\n",
       "      <td>1946.00</td>\n",
       "      <td>1946.00</td>\n",
       "      <td>1946.00</td>\n",
       "      <td>1946.00</td>\n",
       "    </tr>\n",
       "    <tr>\n",
       "      <th>mean</th>\n",
       "      <td>0.68</td>\n",
       "      <td>74.63</td>\n",
       "      <td>4.9</td>\n",
       "      <td>6.98</td>\n",
       "      <td>5.38</td>\n",
       "      <td>99.60</td>\n",
       "      <td>0.88</td>\n",
       "      <td>1.40</td>\n",
       "      <td>0.17</td>\n",
       "      <td>0.71</td>\n",
       "      <td>5.52</td>\n",
       "      <td>1.48</td>\n",
       "      <td>11.33</td>\n",
       "      <td>1.49</td>\n",
       "      <td>2.97</td>\n",
       "      <td>0.36</td>\n",
       "      <td>0.11</td>\n",
       "      <td>35.41</td>\n",
       "      <td>150.56</td>\n",
       "      <td>4.44</td>\n",
       "      <td>0.60</td>\n",
       "      <td>2.79</td>\n",
       "      <td>13.51</td>\n",
       "      <td>106.43</td>\n",
       "    </tr>\n",
       "    <tr>\n",
       "      <th>std</th>\n",
       "      <td>0.47</td>\n",
       "      <td>55.31</td>\n",
       "      <td>2.5</td>\n",
       "      <td>2.28</td>\n",
       "      <td>3.04</td>\n",
       "      <td>62.34</td>\n",
       "      <td>0.33</td>\n",
       "      <td>1.55</td>\n",
       "      <td>0.43</td>\n",
       "      <td>0.45</td>\n",
       "      <td>0.58</td>\n",
       "      <td>0.53</td>\n",
       "      <td>13.57</td>\n",
       "      <td>2.32</td>\n",
       "      <td>2.74</td>\n",
       "      <td>0.48</td>\n",
       "      <td>0.32</td>\n",
       "      <td>26.58</td>\n",
       "      <td>49.45</td>\n",
       "      <td>1.55</td>\n",
       "      <td>0.64</td>\n",
       "      <td>0.76</td>\n",
       "      <td>2.33</td>\n",
       "      <td>181.01</td>\n",
       "    </tr>\n",
       "    <tr>\n",
       "      <th>min</th>\n",
       "      <td>0.00</td>\n",
       "      <td>11.00</td>\n",
       "      <td>1.0</td>\n",
       "      <td>1.00</td>\n",
       "      <td>1.00</td>\n",
       "      <td>10.33</td>\n",
       "      <td>0.00</td>\n",
       "      <td>0.00</td>\n",
       "      <td>0.00</td>\n",
       "      <td>0.00</td>\n",
       "      <td>4.00</td>\n",
       "      <td>0.00</td>\n",
       "      <td>0.00</td>\n",
       "      <td>0.00</td>\n",
       "      <td>0.00</td>\n",
       "      <td>0.00</td>\n",
       "      <td>0.00</td>\n",
       "      <td>0.00</td>\n",
       "      <td>33.40</td>\n",
       "      <td>0.00</td>\n",
       "      <td>0.00</td>\n",
       "      <td>1.00</td>\n",
       "      <td>5.00</td>\n",
       "      <td>0.00</td>\n",
       "    </tr>\n",
       "    <tr>\n",
       "      <th>25%</th>\n",
       "      <td>0.00</td>\n",
       "      <td>39.00</td>\n",
       "      <td>3.0</td>\n",
       "      <td>5.00</td>\n",
       "      <td>3.00</td>\n",
       "      <td>72.00</td>\n",
       "      <td>1.00</td>\n",
       "      <td>0.00</td>\n",
       "      <td>0.00</td>\n",
       "      <td>0.00</td>\n",
       "      <td>5.00</td>\n",
       "      <td>1.00</td>\n",
       "      <td>1.00</td>\n",
       "      <td>0.00</td>\n",
       "      <td>1.00</td>\n",
       "      <td>0.00</td>\n",
       "      <td>0.00</td>\n",
       "      <td>10.00</td>\n",
       "      <td>114.40</td>\n",
       "      <td>3.00</td>\n",
       "      <td>0.00</td>\n",
       "      <td>2.00</td>\n",
       "      <td>12.00</td>\n",
       "      <td>0.00</td>\n",
       "    </tr>\n",
       "    <tr>\n",
       "      <th>50%</th>\n",
       "      <td>1.00</td>\n",
       "      <td>60.00</td>\n",
       "      <td>5.0</td>\n",
       "      <td>7.00</td>\n",
       "      <td>5.00</td>\n",
       "      <td>94.16</td>\n",
       "      <td>1.00</td>\n",
       "      <td>1.00</td>\n",
       "      <td>0.00</td>\n",
       "      <td>1.00</td>\n",
       "      <td>6.00</td>\n",
       "      <td>1.00</td>\n",
       "      <td>7.00</td>\n",
       "      <td>0.00</td>\n",
       "      <td>2.00</td>\n",
       "      <td>0.00</td>\n",
       "      <td>0.00</td>\n",
       "      <td>30.00</td>\n",
       "      <td>145.60</td>\n",
       "      <td>4.00</td>\n",
       "      <td>1.00</td>\n",
       "      <td>3.00</td>\n",
       "      <td>13.00</td>\n",
       "      <td>0.00</td>\n",
       "    </tr>\n",
       "    <tr>\n",
       "      <th>75%</th>\n",
       "      <td>1.00</td>\n",
       "      <td>95.00</td>\n",
       "      <td>7.0</td>\n",
       "      <td>8.00</td>\n",
       "      <td>8.00</td>\n",
       "      <td>117.29</td>\n",
       "      <td>1.00</td>\n",
       "      <td>2.00</td>\n",
       "      <td>0.00</td>\n",
       "      <td>1.00</td>\n",
       "      <td>6.00</td>\n",
       "      <td>2.00</td>\n",
       "      <td>13.00</td>\n",
       "      <td>3.00</td>\n",
       "      <td>4.00</td>\n",
       "      <td>1.00</td>\n",
       "      <td>0.00</td>\n",
       "      <td>60.00</td>\n",
       "      <td>173.78</td>\n",
       "      <td>5.00</td>\n",
       "      <td>1.00</td>\n",
       "      <td>3.00</td>\n",
       "      <td>15.00</td>\n",
       "      <td>174.00</td>\n",
       "    </tr>\n",
       "    <tr>\n",
       "      <th>max</th>\n",
       "      <td>1.00</td>\n",
       "      <td>493.00</td>\n",
       "      <td>19.0</td>\n",
       "      <td>18.00</td>\n",
       "      <td>10.00</td>\n",
       "      <td>1645.60</td>\n",
       "      <td>1.00</td>\n",
       "      <td>13.00</td>\n",
       "      <td>3.00</td>\n",
       "      <td>1.00</td>\n",
       "      <td>7.00</td>\n",
       "      <td>3.00</td>\n",
       "      <td>52.00</td>\n",
       "      <td>9.00</td>\n",
       "      <td>19.00</td>\n",
       "      <td>1.00</td>\n",
       "      <td>1.00</td>\n",
       "      <td>90.00</td>\n",
       "      <td>564.20</td>\n",
       "      <td>11.00</td>\n",
       "      <td>3.00</td>\n",
       "      <td>5.00</td>\n",
       "      <td>19.00</td>\n",
       "      <td>1600.00</td>\n",
       "    </tr>\n",
       "  </tbody>\n",
       "</table>\n",
       "</div>"
      ],
      "text/plain": [
       "       CROSS_SELL_SUCCESS  TOTAL_MEALS_ORDERED  UNIQUE_MEALS_PURCH  CONTACTS_W_CUSTOMER_SERVICE  PRODUCT_CATEGORIES_VIEWED  AVG_TIME_PER_SITE_VISIT  MOBILE_NUMBER  CANCELLATIONS_BEFORE_NOON  CANCELLATIONS_AFTER_NOON  TASTES_AND_PREFERENCES  PC_LOGINS  MOBILE_LOGINS  WEEKLY_PLAN  EARLY_DELIVERIES  LATE_DELIVERIES  PACKAGE_LOCKER  REFRIGERATED_LOCKER  FOLLOWED_RECOMMENDATIONS_PCT  AVG_PREP_VID_TIME  LARGEST_ORDER_SIZE  MASTER_CLASSES_ATTENDED  MEDIAN_MEAL_RATING  AVG_CLICKS_PER_VISIT  TOTAL_PHOTOS_VIEWED\n",
       "count             1946.00              1946.00              1946.0                      1946.00                    1946.00                  1946.00        1946.00                    1946.00                   1946.00                 1946.00    1946.00        1946.00      1946.00           1946.00          1946.00         1946.00              1946.00                       1946.00            1946.00             1946.00                  1946.00             1946.00               1946.00              1946.00\n",
       "mean                 0.68                74.63                 4.9                         6.98                       5.38                    99.60           0.88                       1.40                      0.17                    0.71       5.52           1.48        11.33              1.49             2.97            0.36                 0.11                         35.41             150.56                4.44                     0.60                2.79                 13.51               106.43\n",
       "std                  0.47                55.31                 2.5                         2.28                       3.04                    62.34           0.33                       1.55                      0.43                    0.45       0.58           0.53        13.57              2.32             2.74            0.48                 0.32                         26.58              49.45                1.55                     0.64                0.76                  2.33               181.01\n",
       "min                  0.00                11.00                 1.0                         1.00                       1.00                    10.33           0.00                       0.00                      0.00                    0.00       4.00           0.00         0.00              0.00             0.00            0.00                 0.00                          0.00              33.40                0.00                     0.00                1.00                  5.00                 0.00\n",
       "25%                  0.00                39.00                 3.0                         5.00                       3.00                    72.00           1.00                       0.00                      0.00                    0.00       5.00           1.00         1.00              0.00             1.00            0.00                 0.00                         10.00             114.40                3.00                     0.00                2.00                 12.00                 0.00\n",
       "50%                  1.00                60.00                 5.0                         7.00                       5.00                    94.16           1.00                       1.00                      0.00                    1.00       6.00           1.00         7.00              0.00             2.00            0.00                 0.00                         30.00             145.60                4.00                     1.00                3.00                 13.00                 0.00\n",
       "75%                  1.00                95.00                 7.0                         8.00                       8.00                   117.29           1.00                       2.00                      0.00                    1.00       6.00           2.00        13.00              3.00             4.00            1.00                 0.00                         60.00             173.78                5.00                     1.00                3.00                 15.00               174.00\n",
       "max                  1.00               493.00                19.0                        18.00                      10.00                  1645.60           1.00                      13.00                      3.00                    1.00       7.00           3.00        52.00              9.00            19.00            1.00                 1.00                         90.00             564.20               11.00                     3.00                5.00                 19.00              1600.00"
      ]
     },
     "execution_count": 4,
     "metadata": {},
     "output_type": "execute_result"
    }
   ],
   "source": [
    "#descriptive statistics\n",
    "chef.iloc[:,1:].describe().round(2)"
   ]
  },
  {
   "cell_type": "markdown",
   "metadata": {},
   "source": [
    "***\n",
    "***\n",
    "\n",
    "<h3>Part II: Missing Value Analysis and Imputation</h3><br>\n",
    "\n",
    "Show the number of missing values in the dataset.<br>\n",
    "<em>My goal is to check if a value is missing (i.e. is null) and then add the values together column-wise.</em>\n"
   ]
  },
  {
   "cell_type": "code",
   "execution_count": 5,
   "metadata": {},
   "outputs": [
    {
     "data": {
      "text/plain": [
       "REVENUE                          0\n",
       "CROSS_SELL_SUCCESS               0\n",
       "NAME                             0\n",
       "EMAIL                            0\n",
       "FIRST_NAME                       0\n",
       "FAMILY_NAME                     47\n",
       "TOTAL_MEALS_ORDERED              0\n",
       "UNIQUE_MEALS_PURCH               0\n",
       "CONTACTS_W_CUSTOMER_SERVICE      0\n",
       "PRODUCT_CATEGORIES_VIEWED        0\n",
       "AVG_TIME_PER_SITE_VISIT          0\n",
       "MOBILE_NUMBER                    0\n",
       "CANCELLATIONS_BEFORE_NOON        0\n",
       "CANCELLATIONS_AFTER_NOON         0\n",
       "TASTES_AND_PREFERENCES           0\n",
       "PC_LOGINS                        0\n",
       "MOBILE_LOGINS                    0\n",
       "WEEKLY_PLAN                      0\n",
       "EARLY_DELIVERIES                 0\n",
       "LATE_DELIVERIES                  0\n",
       "PACKAGE_LOCKER                   0\n",
       "REFRIGERATED_LOCKER              0\n",
       "FOLLOWED_RECOMMENDATIONS_PCT     0\n",
       "AVG_PREP_VID_TIME                0\n",
       "LARGEST_ORDER_SIZE               0\n",
       "MASTER_CLASSES_ATTENDED          0\n",
       "MEDIAN_MEAL_RATING               0\n",
       "AVG_CLICKS_PER_VISIT             0\n",
       "TOTAL_PHOTOS_VIEWED              0\n",
       "dtype: int64"
      ]
     },
     "execution_count": 5,
     "metadata": {},
     "output_type": "execute_result"
    }
   ],
   "source": [
    "chef.isnull().sum()"
   ]
  },
  {
   "cell_type": "markdown",
   "metadata": {},
   "source": [
    "I already checked the only missing value here is Family name. So let me check the name,first name, family name as a DataFrame, find the appropriate way to fulfill the missing value of family name."
   ]
  },
  {
   "cell_type": "code",
   "execution_count": 6,
   "metadata": {},
   "outputs": [
    {
     "data": {
      "text/plain": [
       "(1946, 30)"
      ]
     },
     "execution_count": 6,
     "metadata": {},
     "output_type": "execute_result"
    }
   ],
   "source": [
    "# flag the missing value\n",
    "chef['m_FAMILY_NAME'] = chef['FAMILY_NAME'].isnull().astype(int)\n",
    "chef.shape"
   ]
  },
  {
   "cell_type": "markdown",
   "metadata": {},
   "source": [
    "As far, I found that the name didn't include the family name, only include the job in the bracket. So I flagged the missing family name as m_FAMILY_NAME."
   ]
  },
  {
   "cell_type": "markdown",
   "metadata": {},
   "source": [
    "***\n",
    "***\n",
    "\n",
    "<h3>Part III: Data Types</h3>\n",
    "\n",
    "Print() the quantiles for each quantitative variable in the dataset. "
   ]
  },
  {
   "cell_type": "markdown",
   "metadata": {},
   "source": [
    "As we see, from the quantile analysis, 80% customers spent less than $3000 in one year for the orders."
   ]
  },
  {
   "cell_type": "markdown",
   "metadata": {},
   "source": [
    "***\n",
    "***\n",
    "\n",
    "\n",
    "Make assumptions on whether or not the data type of each variable is <strong>CONTINUOUS/INTERVAL</strong>, <strong>BINARY</strong>, <strong>COUNT</strong>, <strong>CATEGORICAL</strong>, or <strong>DISCRETE</strong>. Use the quantiles above and the housing.info() code to help make decisions."
   ]
  },
  {
   "cell_type": "code",
   "execution_count": 7,
   "metadata": {},
   "outputs": [],
   "source": [
    "#chef.info()"
   ]
  },
  {
   "cell_type": "code",
   "execution_count": 8,
   "metadata": {},
   "outputs": [],
   "source": [
    "#chef['TOTAL_PHOTOS_VIEWED'].value_counts()"
   ]
  },
  {
   "cell_type": "code",
   "execution_count": 9,
   "metadata": {},
   "outputs": [],
   "source": [
    "#chef['LATE_DELIVERIES'].value_counts()"
   ]
  },
  {
   "cell_type": "code",
   "execution_count": 10,
   "metadata": {},
   "outputs": [],
   "source": [
    "#chef['EARLY_DELIVERIES'].value_counts()"
   ]
  },
  {
   "cell_type": "code",
   "execution_count": 11,
   "metadata": {},
   "outputs": [],
   "source": [
    "#chef['WEEKLY_PLAN'].value_counts()"
   ]
  },
  {
   "cell_type": "markdown",
   "metadata": {},
   "source": [
    "It looks that we delivered BEFORE the alloted delivery time is not performing well. I will flag the EARLY_DELIVERIES as 1167 is 0."
   ]
  },
  {
   "cell_type": "code",
   "execution_count": 12,
   "metadata": {},
   "outputs": [],
   "source": [
    "#chef['PC_LOGINS'].value_counts()"
   ]
  },
  {
   "cell_type": "code",
   "execution_count": 13,
   "metadata": {},
   "outputs": [],
   "source": [
    "#chef['MOBILE_LOGINS'].value_counts()"
   ]
  },
  {
   "cell_type": "markdown",
   "metadata": {},
   "source": [
    "Compare Count of logins on the mobile platform (app) with web platform (website), customers prefer using website to login in."
   ]
  },
  {
   "cell_type": "code",
   "execution_count": 14,
   "metadata": {},
   "outputs": [],
   "source": [
    "#chef['CANCELLATIONS_BEFORE_NOON'].value_counts()"
   ]
  },
  {
   "cell_type": "code",
   "execution_count": 15,
   "metadata": {},
   "outputs": [],
   "source": [
    "#chef['CANCELLATIONS_AFTER_NOON'].value_counts()"
   ]
  },
  {
   "cell_type": "markdown",
   "metadata": {},
   "source": [
    "Compare the Number of meals canceled before 12 PM with after 12 PM , we can see full refund before noon caused 2/3 customers canceled order, and much more frequently than after noon."
   ]
  },
  {
   "cell_type": "code",
   "execution_count": 16,
   "metadata": {},
   "outputs": [],
   "source": [
    "#chef['MOBILE_NUMBER'].value_counts()"
   ]
  },
  {
   "cell_type": "markdown",
   "metadata": {},
   "source": [
    "As we see, most customers  registered with a mobile."
   ]
  },
  {
   "cell_type": "code",
   "execution_count": 17,
   "metadata": {
    "scrolled": false
   },
   "outputs": [],
   "source": [
    "#chef['UNIQUE_MEALS_PURCH'].value_counts()"
   ]
  },
  {
   "cell_type": "markdown",
   "metadata": {},
   "source": [
    "Insight: From counting unique meals purchase, we can see only three meal sets are most popular, and normally less than 9 different meal sets would be ordered. But not sure it is because only 9 different meal sets as best-selling products to be ordered, or Customers' dining habits result in a focus on less than nine products at most. If it is the first reason, I will suggest canceling the 9-18 meal sets and only retaining the classic 9 meal sets to save cost."
   ]
  },
  {
   "cell_type": "code",
   "execution_count": 18,
   "metadata": {},
   "outputs": [],
   "source": [
    "#chef['CONTACTS_W_CUSTOMER_SERVICE'].value_counts()"
   ]
  },
  {
   "cell_type": "markdown",
   "metadata": {},
   "source": [
    "Insight: Base on times a customer made contact with customer service, we can see the most frequency times to contact with customer service are between 4 to 12."
   ]
  },
  {
   "cell_type": "code",
   "execution_count": 19,
   "metadata": {},
   "outputs": [
    {
     "data": {
      "text/plain": [
       "'\\n\\n# CONTINUOUS OR INTERVAL\\n REVENUE\\n AVG_TIME_PER_SITE_VISIT\\n AVG_PREP_VID_TIME\\n \\n \\n BINARY\\n CROSS_SELL_SUCCESS\\n MOBILE_NUMBER\\n TASTES_AND_PREFERENCES\\n PACKAGE_LOCKER\\n REFRIGERATED_LOCKER\\n\\n\\n# COUNT\\n TOTAL_MEALS_ORDERED\\n UNIQUE_MEALS_PURCH\\n CONTACTS_W_CUSTOMER_SERVICE\\n PRODUCT_CATEGORIES_VIEWED\\n CANCELLATIONS_BEFORE_NOON\\n CANCELLATIONS_AFTER_NOON\\n PC_LOGINS\\n MOBILE_LOGINS\\n WEEKLY_PLAN \\n LATE_DELIVERIES\\n EARLY_DELIVERIES\\n LARGEST_ORDER_SIZE\\n AVG_CLICKS_PER_VISIT(?)\\n TOTAL_PHOTOS_VIEWED\\n \\n\\n# CATEGORICAL\\n MASTER_CLASSES_ATTENDED(?? 0,1,2,3)\\n MEDIAN_MEAL_RATING(?? 12345)\\n \\n\\n\\n# DISCRETE\\n EMAIL\\n NAME\\n FIRST_NAME\\n FAMILY_NAME\\n FOLLOWED_RECOMMENDATIONS_PCT\\n \\n\\n'"
      ]
     },
     "execution_count": 19,
     "metadata": {},
     "output_type": "execute_result"
    }
   ],
   "source": [
    "\"\"\"\n",
    "\n",
    "# CONTINUOUS OR INTERVAL\n",
    " REVENUE\n",
    " AVG_TIME_PER_SITE_VISIT\n",
    " AVG_PREP_VID_TIME\n",
    " \n",
    " \n",
    " BINARY\n",
    " CROSS_SELL_SUCCESS\n",
    " MOBILE_NUMBER\n",
    " TASTES_AND_PREFERENCES\n",
    " PACKAGE_LOCKER\n",
    " REFRIGERATED_LOCKER\n",
    "\n",
    "\n",
    "# COUNT\n",
    " TOTAL_MEALS_ORDERED\n",
    " UNIQUE_MEALS_PURCH\n",
    " CONTACTS_W_CUSTOMER_SERVICE\n",
    " PRODUCT_CATEGORIES_VIEWED\n",
    " CANCELLATIONS_BEFORE_NOON\n",
    " CANCELLATIONS_AFTER_NOON\n",
    " PC_LOGINS\n",
    " MOBILE_LOGINS\n",
    " WEEKLY_PLAN \n",
    " LATE_DELIVERIES\n",
    " EARLY_DELIVERIES\n",
    " LARGEST_ORDER_SIZE\n",
    " AVG_CLICKS_PER_VISIT(?)\n",
    " TOTAL_PHOTOS_VIEWED\n",
    " \n",
    "\n",
    "# CATEGORICAL\n",
    " MASTER_CLASSES_ATTENDED(?? 0,1,2,3)\n",
    " MEDIAN_MEAL_RATING(?? 12345)\n",
    " \n",
    "\n",
    "\n",
    "# DISCRETE\n",
    " EMAIL\n",
    " NAME\n",
    " FIRST_NAME\n",
    " FAMILY_NAME\n",
    " FOLLOWED_RECOMMENDATIONS_PCT\n",
    " \n",
    "\n",
    "\"\"\""
   ]
  },
  {
   "cell_type": "markdown",
   "metadata": {},
   "source": [
    "***\n",
    "***\n",
    "\n",
    "Write a code to DYNAMICALLY print the value counts for each variable that has been assumed categorical."
   ]
  },
  {
   "cell_type": "code",
   "execution_count": 20,
   "metadata": {},
   "outputs": [
    {
     "name": "stdout",
     "output_type": "stream",
     "text": [
      "\n",
      "\n",
      "MASTER_CLASSES_ATTENDED\n",
      "-------------\n",
      "0    932\n",
      "1    858\n",
      "2    150\n",
      "3      6\n",
      "Name: MASTER_CLASSES_ATTENDED, dtype: int64\n",
      "\n",
      "\n",
      "MEDIAN_MEAL_RATING\n",
      "-------------\n",
      "1      99\n",
      "2     487\n",
      "3    1087\n",
      "4     260\n",
      "5      13\n",
      "Name: MEDIAN_MEAL_RATING, dtype: int64\n",
      "\n",
      "\n",
      "\n"
     ]
    }
   ],
   "source": [
    "print(f\"\"\"\n",
    "\n",
    "MASTER_CLASSES_ATTENDED\n",
    "-------------\n",
    "{chef['MASTER_CLASSES_ATTENDED'].value_counts().sort_index()}\n",
    "\n",
    "\n",
    "MEDIAN_MEAL_RATING\n",
    "-------------\n",
    "{chef['MEDIAN_MEAL_RATING'].value_counts().sort_index()}\n",
    "\n",
    "\n",
    "\"\"\")"
   ]
  },
  {
   "cell_type": "markdown",
   "metadata": {},
   "source": [
    "***\n",
    "***\n",
    "\n",
    "<h2>STEP II: Feature Engineering</h2>\n",
    "\n"
   ]
  },
  {
   "cell_type": "markdown",
   "metadata": {},
   "source": [
    "#################################################################################\n",
    "Feature Engineering and (optional) Dataset Standardization\n",
    "################################################################################"
   ]
  },
  {
   "cell_type": "markdown",
   "metadata": {},
   "source": [
    "<h3>Part I: Working with Names</h3><br>"
   ]
  },
  {
   "cell_type": "markdown",
   "metadata": {},
   "source": [
    "Define the function that can split name, automatically sum the length of name and add in new column."
   ]
  },
  {
   "cell_type": "code",
   "execution_count": 21,
   "metadata": {},
   "outputs": [],
   "source": [
    "def split_name(col, df, sep=' ',new_col_name = 'number_of_names'):\n",
    "    \"\"\"\n",
    "    Split the value of a string in series(column of DataFrame), and sum of the number of result items.\n",
    "    Automatically append summed column into original DataFrame.\n",
    "    Parameter:\n",
    "    --------------\n",
    "    col: The column need to be splited\n",
    "    df:  DataFrame where column is located\n",
    "    sep: split by , default ' '\n",
    "    new_col_name: the name of new column after summing split, default 'number of names'\n",
    "    --------------\n",
    "    \"\"\"\n",
    "    df[new_col_name] = 0\n",
    "    for index,val in df.iterrows():\n",
    "        df.loc[index, new_col_name] = len(df.loc[index, col].split())"
   ]
  },
  {
   "cell_type": "code",
   "execution_count": 22,
   "metadata": {},
   "outputs": [
    {
     "data": {
      "text/plain": [
       "2    1201\n",
       "1     591\n",
       "3      98\n",
       "5      35\n",
       "6      12\n",
       "4       9\n",
       "Name: number_of_names, dtype: int64"
      ]
     },
     "execution_count": 22,
     "metadata": {},
     "output_type": "execute_result"
    }
   ],
   "source": [
    "split_name(col='NAME',df=chef)\n",
    "chef['number_of_names'].value_counts()"
   ]
  },
  {
   "cell_type": "code",
   "execution_count": 23,
   "metadata": {},
   "outputs": [],
   "source": [
    "chef['number_of_names_out'] = 0\n",
    "condition = chef.loc[0:,'number_of_names_out'][(chef['number_of_names'] == 5) |\n",
    "                                               (chef['number_of_names'] == 6) |\n",
    "                                               (chef['number_of_names'] == 4)]\n",
    "chef['number_of_names_out'].replace(to_replace = condition,\n",
    "                                    value      = 1,\n",
    "                                    inplace    = True)"
   ]
  },
  {
   "cell_type": "code",
   "execution_count": 24,
   "metadata": {},
   "outputs": [
    {
     "data": {
      "text/plain": [
       "(1946, 32)"
      ]
     },
     "execution_count": 24,
     "metadata": {},
     "output_type": "execute_result"
    }
   ],
   "source": [
    "chef.shape"
   ]
  },
  {
   "cell_type": "markdown",
   "metadata": {},
   "source": [
    "<h3>Part II: Working with Email Addresses</h3><br>\n",
    "\n",
    "\n"
   ]
  },
  {
   "cell_type": "markdown",
   "metadata": {},
   "source": [
    "<h4>1: Group email to Categorical Data</h4><br>\n",
    "1.Create an empty list (placeholder_lst)<br>\n",
    "2.Loop over each email in placeholder_lst and SPLIT each personal email based on a common attribute ('@' and use it to SPLIT email and domain).<br>\n",
    "3.APPEND placeholder_lst with split_email.<br>\n",
    "4.Convert placeholder_lst into a DataFrame.<br>\n",
    "5.Display the DataFrame and check your results.<br>\n"
   ]
  },
  {
   "cell_type": "code",
   "execution_count": 25,
   "metadata": {},
   "outputs": [
    {
     "data": {
      "text/html": [
       "<div>\n",
       "<style scoped>\n",
       "    .dataframe tbody tr th:only-of-type {\n",
       "        vertical-align: middle;\n",
       "    }\n",
       "\n",
       "    .dataframe tbody tr th {\n",
       "        vertical-align: top;\n",
       "    }\n",
       "\n",
       "    .dataframe thead th {\n",
       "        text-align: right;\n",
       "    }\n",
       "</style>\n",
       "<table border=\"1\" class=\"dataframe\">\n",
       "  <thead>\n",
       "    <tr style=\"text-align: right;\">\n",
       "      <th></th>\n",
       "      <th>0</th>\n",
       "      <th>1</th>\n",
       "    </tr>\n",
       "  </thead>\n",
       "  <tbody>\n",
       "    <tr>\n",
       "      <th>0</th>\n",
       "      <td>addam.osgrey</td>\n",
       "      <td>passport.com</td>\n",
       "    </tr>\n",
       "    <tr>\n",
       "      <th>1</th>\n",
       "      <td>aegon.blackfyre</td>\n",
       "      <td>jnj.com</td>\n",
       "    </tr>\n",
       "    <tr>\n",
       "      <th>2</th>\n",
       "      <td>aegon.frey.(son.of.aenys)</td>\n",
       "      <td>gmail.com</td>\n",
       "    </tr>\n",
       "    <tr>\n",
       "      <th>3</th>\n",
       "      <td>aegon.targaryen.(son.of.rhaegar)</td>\n",
       "      <td>ibm.com</td>\n",
       "    </tr>\n",
       "    <tr>\n",
       "      <th>4</th>\n",
       "      <td>aegon.v.targaryen</td>\n",
       "      <td>goldmansacs.com</td>\n",
       "    </tr>\n",
       "    <tr>\n",
       "      <th>...</th>\n",
       "      <td>...</td>\n",
       "      <td>...</td>\n",
       "    </tr>\n",
       "    <tr>\n",
       "      <th>1941</th>\n",
       "      <td>yandry</td>\n",
       "      <td>yahoo.com</td>\n",
       "    </tr>\n",
       "    <tr>\n",
       "      <th>1942</th>\n",
       "      <td>yorkel</td>\n",
       "      <td>gmail.com</td>\n",
       "    </tr>\n",
       "    <tr>\n",
       "      <th>1943</th>\n",
       "      <td>young.henly</td>\n",
       "      <td>gmail.com</td>\n",
       "    </tr>\n",
       "    <tr>\n",
       "      <th>1944</th>\n",
       "      <td>ysilla</td>\n",
       "      <td>protonmail.com</td>\n",
       "    </tr>\n",
       "    <tr>\n",
       "      <th>1945</th>\n",
       "      <td>ysilla.royce</td>\n",
       "      <td>hotmail.com</td>\n",
       "    </tr>\n",
       "  </tbody>\n",
       "</table>\n",
       "<p>1946 rows × 2 columns</p>\n",
       "</div>"
      ],
      "text/plain": [
       "                                     0                1\n",
       "0                         addam.osgrey     passport.com\n",
       "1                      aegon.blackfyre          jnj.com\n",
       "2            aegon.frey.(son.of.aenys)        gmail.com\n",
       "3     aegon.targaryen.(son.of.rhaegar)          ibm.com\n",
       "4                    aegon.v.targaryen  goldmansacs.com\n",
       "...                                ...              ...\n",
       "1941                            yandry        yahoo.com\n",
       "1942                            yorkel        gmail.com\n",
       "1943                       young.henly        gmail.com\n",
       "1944                            ysilla   protonmail.com\n",
       "1945                      ysilla.royce      hotmail.com\n",
       "\n",
       "[1946 rows x 2 columns]"
      ]
     },
     "execution_count": 25,
     "metadata": {},
     "output_type": "execute_result"
    }
   ],
   "source": [
    "placeholder_lst=[]\n",
    "for index,email in chef.iterrows():\n",
    "    split_email = chef.loc[index,'EMAIL'].split(sep = '@')\n",
    "    placeholder_lst.append(split_email)\n",
    "email_df = pd.DataFrame(placeholder_lst)  \n",
    "email_df"
   ]
  },
  {
   "cell_type": "markdown",
   "metadata": {},
   "source": [
    "Concatenate the email domains as a new column in the email_df DataFrame. Name this column email_domain. Then, print the value counts for each domain."
   ]
  },
  {
   "cell_type": "code",
   "execution_count": 26,
   "metadata": {},
   "outputs": [
    {
     "data": {
      "text/html": [
       "<div>\n",
       "<style scoped>\n",
       "    .dataframe tbody tr th:only-of-type {\n",
       "        vertical-align: middle;\n",
       "    }\n",
       "\n",
       "    .dataframe tbody tr th {\n",
       "        vertical-align: top;\n",
       "    }\n",
       "\n",
       "    .dataframe thead th {\n",
       "        text-align: right;\n",
       "    }\n",
       "</style>\n",
       "<table border=\"1\" class=\"dataframe\">\n",
       "  <thead>\n",
       "    <tr style=\"text-align: right;\">\n",
       "      <th></th>\n",
       "      <th>not_use</th>\n",
       "      <th>email_domain</th>\n",
       "    </tr>\n",
       "  </thead>\n",
       "  <tbody>\n",
       "    <tr>\n",
       "      <th>0</th>\n",
       "      <td>addam.osgrey</td>\n",
       "      <td>passport.com</td>\n",
       "    </tr>\n",
       "    <tr>\n",
       "      <th>1</th>\n",
       "      <td>aegon.blackfyre</td>\n",
       "      <td>jnj.com</td>\n",
       "    </tr>\n",
       "    <tr>\n",
       "      <th>2</th>\n",
       "      <td>aegon.frey.(son.of.aenys)</td>\n",
       "      <td>gmail.com</td>\n",
       "    </tr>\n",
       "    <tr>\n",
       "      <th>3</th>\n",
       "      <td>aegon.targaryen.(son.of.rhaegar)</td>\n",
       "      <td>ibm.com</td>\n",
       "    </tr>\n",
       "    <tr>\n",
       "      <th>4</th>\n",
       "      <td>aegon.v.targaryen</td>\n",
       "      <td>goldmansacs.com</td>\n",
       "    </tr>\n",
       "    <tr>\n",
       "      <th>...</th>\n",
       "      <td>...</td>\n",
       "      <td>...</td>\n",
       "    </tr>\n",
       "    <tr>\n",
       "      <th>1941</th>\n",
       "      <td>yandry</td>\n",
       "      <td>yahoo.com</td>\n",
       "    </tr>\n",
       "    <tr>\n",
       "      <th>1942</th>\n",
       "      <td>yorkel</td>\n",
       "      <td>gmail.com</td>\n",
       "    </tr>\n",
       "    <tr>\n",
       "      <th>1943</th>\n",
       "      <td>young.henly</td>\n",
       "      <td>gmail.com</td>\n",
       "    </tr>\n",
       "    <tr>\n",
       "      <th>1944</th>\n",
       "      <td>ysilla</td>\n",
       "      <td>protonmail.com</td>\n",
       "    </tr>\n",
       "    <tr>\n",
       "      <th>1945</th>\n",
       "      <td>ysilla.royce</td>\n",
       "      <td>hotmail.com</td>\n",
       "    </tr>\n",
       "  </tbody>\n",
       "</table>\n",
       "<p>1946 rows × 2 columns</p>\n",
       "</div>"
      ],
      "text/plain": [
       "                               not_use     email_domain\n",
       "0                         addam.osgrey     passport.com\n",
       "1                      aegon.blackfyre          jnj.com\n",
       "2            aegon.frey.(son.of.aenys)        gmail.com\n",
       "3     aegon.targaryen.(son.of.rhaegar)          ibm.com\n",
       "4                    aegon.v.targaryen  goldmansacs.com\n",
       "...                                ...              ...\n",
       "1941                            yandry        yahoo.com\n",
       "1942                            yorkel        gmail.com\n",
       "1943                       young.henly        gmail.com\n",
       "1944                            ysilla   protonmail.com\n",
       "1945                      ysilla.royce      hotmail.com\n",
       "\n",
       "[1946 rows x 2 columns]"
      ]
     },
     "execution_count": 26,
     "metadata": {},
     "output_type": "execute_result"
    }
   ],
   "source": [
    "email_df.columns = ['not_use','email_domain']\n",
    "email_df"
   ]
  },
  {
   "cell_type": "markdown",
   "metadata": {},
   "source": [
    "Now that email domains have been extracted, let's go one step further to aggregate domains into higher-level categories.  this helps address issues when some categories have small sample sizes.Let's set emails to different group."
   ]
  },
  {
   "cell_type": "code",
   "execution_count": 27,
   "metadata": {
    "scrolled": true
   },
   "outputs": [
    {
     "data": {
      "text/plain": [
       "(1946, 33)"
      ]
     },
     "execution_count": 27,
     "metadata": {},
     "output_type": "execute_result"
    }
   ],
   "source": [
    "# create new dataframe chef_m include column 'domain_group'\n",
    "chef_m = chef.copy()\n",
    "# email domain types\n",
    "personal_email_domains = ['@gmail.com','@yahoo.com','@protonmail.com']\n",
    "professional_email_domains  = ['@mmm.com','@amex.com','@apple.com','@boeing.com','@caterpillar.com',\n",
    "                               '@chevron.com','@cisco.com','@cocacola.com','@disney.com','@dupont.com'\n",
    "                               '@exxon.com','@ge.org','@goldmansacs.com','@ibm.com','@intel.com','@jnj.com'\n",
    "                               '@jpmorgan.com','@mcdonalds.com','@merck.com','@microsoft.com','@nike.com'\n",
    "                               '@pfizer.com','@pg.com','@travelers.com','@unitedtech.com','@unitedhealth.com'\n",
    "                               '@verizon.com','@visa.com','@walmart.com']\n",
    "junk_email_domain = ['@me.com','@aol.com','@hotmail.com','@live.com','@msn.com','@passport.com']\n",
    "\n",
    "# placeholder list\n",
    "placeholder_lst = []    \n",
    "\n",
    "# looping to group observations by domain type\n",
    "for domain in email_df['email_domain']:\n",
    "        if '@' + domain in personal_email_domains:\n",
    "            placeholder_lst.append('personal_email')\n",
    "            \n",
    "        elif '@' + domain in professional_email_domains:\n",
    "            placeholder_lst.append('professional_email')\n",
    "        elif '@' + domain in junk_email_domain:\n",
    "            placeholder_lst.append('junk_email')    \n",
    "        else:\n",
    "            placeholder_lst.append('unknown_email')\n",
    "\n",
    "\n",
    "# concatenating with email_df\n",
    "email_df['domain_group'] = pd.Series(placeholder_lst)  #if dataframe only one column, that is series\n",
    "# # concatenating domain_group with chef DataFrame\n",
    "chef_m = pd.concat([chef_m, email_df['domain_group']],axis=1)\n",
    "chef_m.shape\n"
   ]
  },
  {
   "cell_type": "markdown",
   "metadata": {},
   "source": [
    "***\n",
    "***\n",
    "\n",
    "<h4>2: Encoding Categorical Data- dummy email group</h4><br>\n"
   ]
  },
  {
   "cell_type": "code",
   "execution_count": 28,
   "metadata": {},
   "outputs": [
    {
     "data": {
      "text/html": [
       "<div>\n",
       "<style scoped>\n",
       "    .dataframe tbody tr th:only-of-type {\n",
       "        vertical-align: middle;\n",
       "    }\n",
       "\n",
       "    .dataframe tbody tr th {\n",
       "        vertical-align: top;\n",
       "    }\n",
       "\n",
       "    .dataframe thead th {\n",
       "        text-align: right;\n",
       "    }\n",
       "</style>\n",
       "<table border=\"1\" class=\"dataframe\">\n",
       "  <thead>\n",
       "    <tr style=\"text-align: right;\">\n",
       "      <th></th>\n",
       "      <th>junk_email</th>\n",
       "      <th>personal_email</th>\n",
       "      <th>professional_email</th>\n",
       "      <th>unknown_email</th>\n",
       "    </tr>\n",
       "  </thead>\n",
       "  <tbody>\n",
       "    <tr>\n",
       "      <th>0</th>\n",
       "      <td>1</td>\n",
       "      <td>0</td>\n",
       "      <td>0</td>\n",
       "      <td>0</td>\n",
       "    </tr>\n",
       "    <tr>\n",
       "      <th>1</th>\n",
       "      <td>0</td>\n",
       "      <td>0</td>\n",
       "      <td>0</td>\n",
       "      <td>1</td>\n",
       "    </tr>\n",
       "    <tr>\n",
       "      <th>2</th>\n",
       "      <td>0</td>\n",
       "      <td>1</td>\n",
       "      <td>0</td>\n",
       "      <td>0</td>\n",
       "    </tr>\n",
       "    <tr>\n",
       "      <th>3</th>\n",
       "      <td>0</td>\n",
       "      <td>0</td>\n",
       "      <td>1</td>\n",
       "      <td>0</td>\n",
       "    </tr>\n",
       "    <tr>\n",
       "      <th>4</th>\n",
       "      <td>0</td>\n",
       "      <td>0</td>\n",
       "      <td>1</td>\n",
       "      <td>0</td>\n",
       "    </tr>\n",
       "    <tr>\n",
       "      <th>...</th>\n",
       "      <td>...</td>\n",
       "      <td>...</td>\n",
       "      <td>...</td>\n",
       "      <td>...</td>\n",
       "    </tr>\n",
       "    <tr>\n",
       "      <th>1941</th>\n",
       "      <td>0</td>\n",
       "      <td>1</td>\n",
       "      <td>0</td>\n",
       "      <td>0</td>\n",
       "    </tr>\n",
       "    <tr>\n",
       "      <th>1942</th>\n",
       "      <td>0</td>\n",
       "      <td>1</td>\n",
       "      <td>0</td>\n",
       "      <td>0</td>\n",
       "    </tr>\n",
       "    <tr>\n",
       "      <th>1943</th>\n",
       "      <td>0</td>\n",
       "      <td>1</td>\n",
       "      <td>0</td>\n",
       "      <td>0</td>\n",
       "    </tr>\n",
       "    <tr>\n",
       "      <th>1944</th>\n",
       "      <td>0</td>\n",
       "      <td>1</td>\n",
       "      <td>0</td>\n",
       "      <td>0</td>\n",
       "    </tr>\n",
       "    <tr>\n",
       "      <th>1945</th>\n",
       "      <td>1</td>\n",
       "      <td>0</td>\n",
       "      <td>0</td>\n",
       "      <td>0</td>\n",
       "    </tr>\n",
       "  </tbody>\n",
       "</table>\n",
       "<p>1946 rows × 4 columns</p>\n",
       "</div>"
      ],
      "text/plain": [
       "      junk_email  personal_email  professional_email  unknown_email\n",
       "0              1               0                   0              0\n",
       "1              0               0                   0              1\n",
       "2              0               1                   0              0\n",
       "3              0               0                   1              0\n",
       "4              0               0                   1              0\n",
       "...          ...             ...                 ...            ...\n",
       "1941           0               1                   0              0\n",
       "1942           0               1                   0              0\n",
       "1943           0               1                   0              0\n",
       "1944           0               1                   0              0\n",
       "1945           1               0                   0              0\n",
       "\n",
       "[1946 rows x 4 columns]"
      ]
     },
     "execution_count": 28,
     "metadata": {},
     "output_type": "execute_result"
    }
   ],
   "source": [
    "# create gummies base on domain group\n",
    "one_email = pd.get_dummies(chef_m['domain_group'])\n",
    "one_email"
   ]
  },
  {
   "cell_type": "code",
   "execution_count": 29,
   "metadata": {},
   "outputs": [
    {
     "data": {
      "text/plain": [
       "junk_email            389\n",
       "personal_email        861\n",
       "professional_email    489\n",
       "unknown_email         207\n",
       "dtype: int64"
      ]
     },
     "execution_count": 29,
     "metadata": {},
     "output_type": "execute_result"
    }
   ],
   "source": [
    "one_email.sum()"
   ]
  },
  {
   "cell_type": "code",
   "execution_count": 30,
   "metadata": {},
   "outputs": [
    {
     "data": {
      "text/plain": [
       "(1946, 36)"
      ]
     },
     "execution_count": 30,
     "metadata": {},
     "output_type": "execute_result"
    }
   ],
   "source": [
    "# create new dataframe chef_n include different email types' columns\n",
    "chef_n = chef.join([one_email])\n",
    "chef_n.shape"
   ]
  },
  {
   "cell_type": "code",
   "execution_count": 31,
   "metadata": {},
   "outputs": [],
   "source": [
    "chef = chef_n.drop(['NAME', 'EMAIL', 'FIRST_NAME', 'FAMILY_NAME','unknown_email'], axis=1)"
   ]
  },
  {
   "cell_type": "code",
   "execution_count": 32,
   "metadata": {},
   "outputs": [
    {
     "data": {
      "text/plain": [
       "(1946, 31)"
      ]
     },
     "execution_count": 32,
     "metadata": {},
     "output_type": "execute_result"
    }
   ],
   "source": [
    "chef.shape"
   ]
  },
  {
   "cell_type": "code",
   "execution_count": 33,
   "metadata": {},
   "outputs": [
    {
     "data": {
      "text/plain": [
       "Index(['REVENUE', 'CROSS_SELL_SUCCESS', 'TOTAL_MEALS_ORDERED', 'UNIQUE_MEALS_PURCH', 'CONTACTS_W_CUSTOMER_SERVICE', 'PRODUCT_CATEGORIES_VIEWED', 'AVG_TIME_PER_SITE_VISIT', 'MOBILE_NUMBER', 'CANCELLATIONS_BEFORE_NOON', 'CANCELLATIONS_AFTER_NOON', 'TASTES_AND_PREFERENCES', 'PC_LOGINS', 'MOBILE_LOGINS', 'WEEKLY_PLAN', 'EARLY_DELIVERIES', 'LATE_DELIVERIES', 'PACKAGE_LOCKER', 'REFRIGERATED_LOCKER', 'FOLLOWED_RECOMMENDATIONS_PCT', 'AVG_PREP_VID_TIME', 'LARGEST_ORDER_SIZE', 'MASTER_CLASSES_ATTENDED', 'MEDIAN_MEAL_RATING', 'AVG_CLICKS_PER_VISIT', 'TOTAL_PHOTOS_VIEWED', 'm_FAMILY_NAME', 'number_of_names', 'number_of_names_out', 'junk_email', 'personal_email', 'professional_email'], dtype='object')"
      ]
     },
     "execution_count": 33,
     "metadata": {},
     "output_type": "execute_result"
    }
   ],
   "source": [
    "chef.columns"
   ]
  },
  {
   "cell_type": "code",
   "execution_count": 34,
   "metadata": {},
   "outputs": [],
   "source": [
    "# # saving results\n",
    "# chef.to_excel('chef_feature_rich.xlsx',\n",
    "#                  index = False)"
   ]
  },
  {
   "cell_type": "code",
   "execution_count": 35,
   "metadata": {},
   "outputs": [],
   "source": [
    "# # loading saved file\n",
    "# chef = pd.read_excel('chef_feature_rich.xlsx')"
   ]
  },
  {
   "cell_type": "markdown",
   "metadata": {},
   "source": [
    "<br>\n",
    "<h3>Part III: One-hot encoding for categorial features</h3><br>"
   ]
  },
  {
   "cell_type": "code",
   "execution_count": 36,
   "metadata": {},
   "outputs": [],
   "source": [
    "#chef.columns"
   ]
  },
  {
   "cell_type": "code",
   "execution_count": 37,
   "metadata": {},
   "outputs": [],
   "source": [
    "#chef.shape"
   ]
  },
  {
   "cell_type": "code",
   "execution_count": 38,
   "metadata": {},
   "outputs": [
    {
     "data": {
      "text/html": [
       "<div>\n",
       "<style scoped>\n",
       "    .dataframe tbody tr th:only-of-type {\n",
       "        vertical-align: middle;\n",
       "    }\n",
       "\n",
       "    .dataframe tbody tr th {\n",
       "        vertical-align: top;\n",
       "    }\n",
       "\n",
       "    .dataframe thead th {\n",
       "        text-align: right;\n",
       "    }\n",
       "</style>\n",
       "<table border=\"1\" class=\"dataframe\">\n",
       "  <thead>\n",
       "    <tr style=\"text-align: right;\">\n",
       "      <th></th>\n",
       "      <th>MEDIAN_MEAL_RATING_1</th>\n",
       "      <th>MEDIAN_MEAL_RATING_2</th>\n",
       "      <th>MEDIAN_MEAL_RATING_3</th>\n",
       "      <th>MEDIAN_MEAL_RATING_4</th>\n",
       "      <th>MEDIAN_MEAL_RATING_5</th>\n",
       "    </tr>\n",
       "  </thead>\n",
       "  <tbody>\n",
       "    <tr>\n",
       "      <th>0</th>\n",
       "      <td>0</td>\n",
       "      <td>0</td>\n",
       "      <td>1</td>\n",
       "      <td>0</td>\n",
       "      <td>0</td>\n",
       "    </tr>\n",
       "    <tr>\n",
       "      <th>1</th>\n",
       "      <td>0</td>\n",
       "      <td>0</td>\n",
       "      <td>1</td>\n",
       "      <td>0</td>\n",
       "      <td>0</td>\n",
       "    </tr>\n",
       "    <tr>\n",
       "      <th>2</th>\n",
       "      <td>0</td>\n",
       "      <td>0</td>\n",
       "      <td>1</td>\n",
       "      <td>0</td>\n",
       "      <td>0</td>\n",
       "    </tr>\n",
       "    <tr>\n",
       "      <th>3</th>\n",
       "      <td>0</td>\n",
       "      <td>0</td>\n",
       "      <td>1</td>\n",
       "      <td>0</td>\n",
       "      <td>0</td>\n",
       "    </tr>\n",
       "    <tr>\n",
       "      <th>4</th>\n",
       "      <td>0</td>\n",
       "      <td>0</td>\n",
       "      <td>1</td>\n",
       "      <td>0</td>\n",
       "      <td>0</td>\n",
       "    </tr>\n",
       "    <tr>\n",
       "      <th>...</th>\n",
       "      <td>...</td>\n",
       "      <td>...</td>\n",
       "      <td>...</td>\n",
       "      <td>...</td>\n",
       "      <td>...</td>\n",
       "    </tr>\n",
       "    <tr>\n",
       "      <th>1941</th>\n",
       "      <td>0</td>\n",
       "      <td>0</td>\n",
       "      <td>1</td>\n",
       "      <td>0</td>\n",
       "      <td>0</td>\n",
       "    </tr>\n",
       "    <tr>\n",
       "      <th>1942</th>\n",
       "      <td>0</td>\n",
       "      <td>0</td>\n",
       "      <td>1</td>\n",
       "      <td>0</td>\n",
       "      <td>0</td>\n",
       "    </tr>\n",
       "    <tr>\n",
       "      <th>1943</th>\n",
       "      <td>0</td>\n",
       "      <td>1</td>\n",
       "      <td>0</td>\n",
       "      <td>0</td>\n",
       "      <td>0</td>\n",
       "    </tr>\n",
       "    <tr>\n",
       "      <th>1944</th>\n",
       "      <td>0</td>\n",
       "      <td>1</td>\n",
       "      <td>0</td>\n",
       "      <td>0</td>\n",
       "      <td>0</td>\n",
       "    </tr>\n",
       "    <tr>\n",
       "      <th>1945</th>\n",
       "      <td>0</td>\n",
       "      <td>1</td>\n",
       "      <td>0</td>\n",
       "      <td>0</td>\n",
       "      <td>0</td>\n",
       "    </tr>\n",
       "  </tbody>\n",
       "</table>\n",
       "<p>1946 rows × 5 columns</p>\n",
       "</div>"
      ],
      "text/plain": [
       "      MEDIAN_MEAL_RATING_1  MEDIAN_MEAL_RATING_2  MEDIAN_MEAL_RATING_3  MEDIAN_MEAL_RATING_4  MEDIAN_MEAL_RATING_5\n",
       "0                        0                     0                     1                     0                     0\n",
       "1                        0                     0                     1                     0                     0\n",
       "2                        0                     0                     1                     0                     0\n",
       "3                        0                     0                     1                     0                     0\n",
       "4                        0                     0                     1                     0                     0\n",
       "...                    ...                   ...                   ...                   ...                   ...\n",
       "1941                     0                     0                     1                     0                     0\n",
       "1942                     0                     0                     1                     0                     0\n",
       "1943                     0                     1                     0                     0                     0\n",
       "1944                     0                     1                     0                     0                     0\n",
       "1945                     0                     1                     0                     0                     0\n",
       "\n",
       "[1946 rows x 5 columns]"
      ]
     },
     "execution_count": 38,
     "metadata": {},
     "output_type": "execute_result"
    }
   ],
   "source": [
    "# create dummies base on median rate\n",
    "one_MEDIAN_MEAL_RATING = pd.get_dummies(chef['MEDIAN_MEAL_RATING'])\n",
    "one_MEDIAN_MEAL_RATING.columns =  ['MEDIAN_MEAL_RATING_1',\n",
    "                                   'MEDIAN_MEAL_RATING_2',\n",
    "                                   'MEDIAN_MEAL_RATING_3',\n",
    "                                   'MEDIAN_MEAL_RATING_4',\n",
    "                                   'MEDIAN_MEAL_RATING_5']\n",
    "one_MEDIAN_MEAL_RATING"
   ]
  },
  {
   "cell_type": "code",
   "execution_count": 39,
   "metadata": {},
   "outputs": [],
   "source": [
    "chef = chef.join([one_MEDIAN_MEAL_RATING])"
   ]
  },
  {
   "cell_type": "code",
   "execution_count": 40,
   "metadata": {},
   "outputs": [
    {
     "data": {
      "text/plain": [
       "(1946, 36)"
      ]
     },
     "execution_count": 40,
     "metadata": {},
     "output_type": "execute_result"
    }
   ],
   "source": [
    "chef.shape"
   ]
  },
  {
   "cell_type": "markdown",
   "metadata": {},
   "source": [
    "\n",
    "\n",
    "<br>\n",
    "<h3>Part IV: Outlier Analysis</h3><br>\n",
    "let's engineer some new features in the hopes of outperforming our current predictive results.<br><br>\n",
    "Plot all the features to see the trend.\n"
   ]
  },
  {
   "cell_type": "code",
   "execution_count": 41,
   "metadata": {},
   "outputs": [],
   "source": [
    "# correlation heatmap\n",
    "# a = chef[['REVENUE','CROSS_SELL_SUCCESS', 'TOTAL_MEALS_ORDERED', 'UNIQUE_MEALS_PURCH',\n",
    "#           'CONTACTS_W_CUSTOMER_SERVICE', 'PRODUCT_CATEGORIES_VIEWED', 'AVG_TIME_PER_SITE_VISIT',\n",
    "#           'MOBILE_NUMBER', 'CANCELLATIONS_BEFORE_NOON', 'CANCELLATIONS_AFTER_NOON', \n",
    "#           'TASTES_AND_PREFERENCES', 'PC_LOGINS', 'MOBILE_LOGINS', 'WEEKLY_PLAN', \n",
    "#           'EARLY_DELIVERIES', 'LATE_DELIVERIES', 'PACKAGE_LOCKER', 'REFRIGERATED_LOCKER', \n",
    "#           'FOLLOWED_RECOMMENDATIONS_PCT', 'AVG_PREP_VID_TIME', 'LARGEST_ORDER_SIZE', 'MASTER_CLASSES_ATTENDED', \n",
    "#           'MEDIAN_MEAL_RATING', 'AVG_CLICKS_PER_VISIT', 'TOTAL_PHOTOS_VIEWED']]\n",
    "# creating a (Pearson) correlation matrix\n",
    "# a_corr = a.corr().round(2)\n",
    "# fig, ax = plt.subplots(figsize=(15,15))\n",
    "# sns.heatmap(a_corr,\n",
    "#             cmap = 'coolwarm',\n",
    "#             square = True,\n",
    "#             annot = True,\n",
    "#             linecolor = 'black',\n",
    "#             linewidths = 0.5)\n",
    "\n",
    "\n",
    "# plt.savefig('chef Correlation Heatmap.png')\n",
    "# plt.show()"
   ]
  },
  {
   "cell_type": "code",
   "execution_count": 42,
   "metadata": {},
   "outputs": [
    {
     "data": {
      "image/png": "[encoded data removed]",
      "text/plain": [
       "<Figure size 720x576 with 4 Axes>"
      ]
     },
     "metadata": {
      "needs_background": "light"
     },
     "output_type": "display_data"
    },
    {
     "data": {
      "image/png": "[encoded data removed]",
      "text/plain": [
       "<Figure size 720x576 with 4 Axes>"
      ]
     },
     "metadata": {
      "needs_background": "light"
     },
     "output_type": "display_data"
    },
    {
     "data": {
      "image/png": "[encoded data removed]",
      "text/plain": [
       "<Figure size 720x576 with 4 Axes>"
      ]
     },
     "metadata": {
      "needs_background": "light"
     },
     "output_type": "display_data"
    },
    {
     "data": {
      "image/png": "[encoded data removed]",
      "text/plain": [
       "<Figure size 720x576 with 4 Axes>"
      ]
     },
     "metadata": {
      "needs_background": "light"
     },
     "output_type": "display_data"
    },
    {
     "data": {
      "image/png": "[encoded data removed]",
      "text/plain": [
       "<Figure size 720x576 with 4 Axes>"
      ]
     },
     "metadata": {
      "needs_background": "light"
     },
     "output_type": "display_data"
    },
    {
     "data": {
      "image/png": "[encoded data removed]",
      "text/plain": [
       "<Figure size 720x576 with 4 Axes>"
      ]
     },
     "metadata": {
      "needs_background": "light"
     },
     "output_type": "display_data"
    },
    {
     "data": {
      "image/png": "[encoded data removed]",
      "text/plain": [
       "<Figure size 432x288 with 1 Axes>"
      ]
     },
     "metadata": {
      "needs_background": "light"
     },
     "output_type": "display_data"
    }
   ],
   "source": [
    "########################\n",
    "# Visual EDA (Histograms)\n",
    "########################1\n",
    "\n",
    "fig, ax = plt.subplots(figsize = (10, 8))\n",
    "plt.subplot(2, 2, 1)                                #subplot(numRows, numCols, plotNum)\n",
    "sns.distplot(chef['CROSS_SELL_SUCCESS'],\n",
    "             bins = 10,\n",
    "             kde  = False,\n",
    "             rug  = True,\n",
    "             color = 'orange')\n",
    "plt.xlabel('CROSS_SELL_SUCCESS')\n",
    "\n",
    "########################\n",
    "\n",
    "plt.subplot(2, 2, 2)\n",
    "sns.distplot(chef['TOTAL_MEALS_ORDERED'],\n",
    "             bins  = 'fd',\n",
    "             color = 'y')\n",
    "plt.xlabel('TOTAL_MEALS_ORDERED')\n",
    "\n",
    "########################\n",
    "\n",
    "plt.subplot(2, 2, 3)\n",
    "sns.distplot(chef['UNIQUE_MEALS_PURCH'],\n",
    "             bins  = 'fd',\n",
    "             kde   = True,\n",
    "             rug   = True,\n",
    "             color = 'orange')\n",
    "plt.xlabel('UNIQUE_MEALS_PURCH')\n",
    "\n",
    "########################\n",
    "plt.subplot(2, 2, 4)\n",
    "sns.distplot(chef['CONTACTS_W_CUSTOMER_SERVICE'],\n",
    "             bins  = 'fd',\n",
    "             kde   = True,\n",
    "             rug   = True,\n",
    "             color = 'r')\n",
    "plt.xlabel('CONTACTS_W_CUSTOMER_SERVICE')\n",
    "plt.tight_layout()\n",
    "plt.savefig('Chef Data Histograms 1 of 7.png')\n",
    "plt.show()\n",
    "\n",
    "########################\n",
    "########################2\n",
    "\n",
    "fig, ax = plt.subplots(figsize = (10, 8))\n",
    "plt.subplot(2, 2, 1)\n",
    "sns.distplot(chef['PRODUCT_CATEGORIES_VIEWED'],\n",
    "             bins  = 'fd',\n",
    "             kde   = True,\n",
    "             color = 'g')\n",
    "plt.xlabel('PRODUCT_CATEGORIES_VIEWED')\n",
    "\n",
    "########################\n",
    "\n",
    "plt.subplot(2, 2, 2)\n",
    "sns.distplot(chef['AVG_TIME_PER_SITE_VISIT'],\n",
    "             bins  = 'fd',\n",
    "             color = 'y')\n",
    "plt.xlabel('AVG_TIME_PER_SITE_VISIT')\n",
    "\n",
    "########################\n",
    "\n",
    "plt.subplot(2, 2, 3)\n",
    "sns.distplot(chef['MOBILE_NUMBER'],\n",
    "             bins  = 20,\n",
    "             kde   = False,\n",
    "             rug   = True,\n",
    "             color = 'orange')\n",
    "plt.xlabel('MOBILE_NUMBER')\n",
    "\n",
    "########################\n",
    "\n",
    "plt.subplot(2, 2, 4)\n",
    "sns.distplot(chef['CANCELLATIONS_BEFORE_NOON'],\n",
    "             bins  = 'fd',\n",
    "             kde   = False,\n",
    "             rug   = True,\n",
    "             color = 'r')\n",
    "plt.xlabel('CANCELLATIONS_BEFORE_NOON')\n",
    "plt.tight_layout()\n",
    "plt.savefig('Chef Data Histograms 2 of 7.png')\n",
    "plt.show()\n",
    "\n",
    "########################\n",
    "########################3\n",
    "\n",
    "fig, ax = plt.subplots(figsize = (10, 8))\n",
    "plt.subplot(2, 2, 1)\n",
    "sns.distplot(chef['CANCELLATIONS_AFTER_NOON'],\n",
    "             #bins  = 'fd',\n",
    "             kde   = False,\n",
    "             color = 'y')\n",
    "plt.xlabel('CANCELLATIONS_AFTER_NOON')\n",
    "\n",
    "########################\n",
    "\n",
    "plt.subplot(2, 2, 2)\n",
    "sns.distplot(chef['TASTES_AND_PREFERENCES'],\n",
    "             bins  = 'fd',\n",
    "             kde   = False,\n",
    "             rug   = True,\n",
    "             color = 'orange')\n",
    "plt.xlabel('TASTES_AND_PREFERENCES')\n",
    "\n",
    "########################\n",
    "\n",
    "plt.subplot(2, 2, 3)\n",
    "sns.distplot(chef['PC_LOGINS'],\n",
    "             bins  = 'fd',\n",
    "             kde   = False,\n",
    "             rug   = True,\n",
    "             color = 'r')\n",
    "plt.xlabel('PC_LOGINS')\n",
    "\n",
    "########################\n",
    "\n",
    "plt.subplot(2, 2, 4)\n",
    "sns.distplot(chef['MOBILE_LOGINS'],\n",
    "             bins  = 'fd',\n",
    "             color = 'g')\n",
    "plt.xlabel('MOBILE_LOGINS')\n",
    "plt.tight_layout()\n",
    "plt.savefig('Housing Data Histograms 3 of 7.png')\n",
    "plt.show()\n",
    "\n",
    "########################\n",
    "########################4\n",
    "\n",
    "fig, ax = plt.subplots(figsize = (10, 8))\n",
    "plt.subplot(2, 2, 1)\n",
    "sns.distplot(chef['WEEKLY_PLAN'],\n",
    "             bins  = 'fd',\n",
    "             kde  = True,\n",
    "             color = 'y')\n",
    "plt.xlabel('WEEKLY_PLAN')\n",
    "\n",
    "########################\n",
    "\n",
    "plt.subplot(2, 2, 2)\n",
    "sns.distplot(chef['EARLY_DELIVERIES'],\n",
    "             bins = 10,\n",
    "             kde  = False,\n",
    "             rug  = True,\n",
    "             color = 'orange')\n",
    "plt.xlabel('EARLY_DELIVERIES')\n",
    "\n",
    "########################\n",
    "\n",
    "plt.subplot(2, 2, 3)\n",
    "sns.distplot(chef['LATE_DELIVERIES'],\n",
    "             bins = 'fd',\n",
    "             kde  = False,\n",
    "             rug  = True,\n",
    "             color = 'r')\n",
    "plt.xlabel('LATE_DELIVERIES')\n",
    "\n",
    "########################\n",
    "\n",
    "plt.subplot(2, 2, 4)\n",
    "sns.distplot(chef['PACKAGE_LOCKER'],\n",
    "             bins  = 'fd',\n",
    "             color = 'g')\n",
    "plt.xlabel('PACKAGE_LOCKER')\n",
    "plt.tight_layout()\n",
    "plt.savefig('Chef Data Histograms 4 of 7.png')\n",
    "plt.show()\n",
    "\n",
    "########################\n",
    "########################5\n",
    "\n",
    "fig, ax = plt.subplots(figsize = (10, 8))\n",
    "plt.subplot(2, 2, 1)\n",
    "sns.distplot(chef['REFRIGERATED_LOCKER'],\n",
    "             bins = 10,\n",
    "             kde  = False,\n",
    "             rug  = True,\n",
    "             color = 'r')\n",
    "plt.xlabel('REFRIGERATED_LOCKER')\n",
    "\n",
    "########################\n",
    "\n",
    "plt.subplot(2, 2, 2)\n",
    "sns.distplot(chef['FOLLOWED_RECOMMENDATIONS_PCT'],\n",
    "             bins  = 'fd',\n",
    "             kde   = True,\n",
    "             rug   = True,\n",
    "             color = 'r')\n",
    "plt.xlabel('FOLLOWED_RECOMMENDATIONS_PCT')\n",
    "\n",
    "########################\n",
    "\n",
    "plt.subplot(2, 2, 3)\n",
    "sns.distplot(chef['AVG_PREP_VID_TIME'],\n",
    "             bins = 'fd',\n",
    "             kde  = True,\n",
    "             rug  = False,\n",
    "             color = 'r')\n",
    "plt.xlabel('AVG_PREP_VID_TIME')\n",
    "\n",
    "########################\n",
    "\n",
    "plt.subplot(2, 2, 4)\n",
    "sns.distplot(chef['LARGEST_ORDER_SIZE'],\n",
    "             bins  = 'fd',\n",
    "             color = 'g')\n",
    "plt.xlabel('LARGEST_ORDER_SIZE')\n",
    "plt.tight_layout()\n",
    "plt.savefig('Chef Data Histograms 5 of 7.png')\n",
    "plt.show()\n",
    "\n",
    "########################\n",
    "########################6\n",
    "\n",
    "fig, ax = plt.subplots(figsize = (10, 8))\n",
    "plt.subplot(2, 2, 1)                                #subplot(numRows, numCols, plotNum)\n",
    "sns.distplot(chef['MASTER_CLASSES_ATTENDED'],\n",
    "             bins = 10,\n",
    "             kde  = False,\n",
    "             rug  = True,\n",
    "             color = 'orange')\n",
    "plt.xlabel('MASTER_CLASSES_ATTENDED')\n",
    "\n",
    "########################\n",
    "\n",
    "plt.subplot(2, 2, 2)\n",
    "sns.distplot(chef['MEDIAN_MEAL_RATING'],\n",
    "             bins  = 'fd',\n",
    "             color = 'y')\n",
    "plt.xlabel('MEDIAN_MEAL_RATING')\n",
    "\n",
    "########################\n",
    "\n",
    "plt.subplot(2, 2, 3)\n",
    "sns.distplot(chef['AVG_CLICKS_PER_VISIT'],\n",
    "             bins  = 'fd',\n",
    "             kde   = False,\n",
    "             rug   = True,\n",
    "             color = 'orange')\n",
    "plt.xlabel('AVG_CLICKS_PER_VISIT')\n",
    "\n",
    "########################\n",
    "plt.subplot(2, 2, 4)\n",
    "sns.distplot(chef['TOTAL_PHOTOS_VIEWED'],\n",
    "             bins  = 'fd',\n",
    "             kde   = True,\n",
    "             rug   = False,\n",
    "             color = 'r')\n",
    "plt.xlabel('TOTAL_PHOTOS_VIEWED')\n",
    "plt.tight_layout()\n",
    "plt.savefig('Chef Data Histograms 6 of 7.png')\n",
    "plt.show()\n",
    "\n",
    "########################\n",
    "########################7\n",
    "\n",
    "plt.subplot(2, 2, 1)\n",
    "sns.distplot(chef['REVENUE'],\n",
    "             bins  = 'fd',\n",
    "             kde   = True,\n",
    "             rug   = False,\n",
    "             color = 'r')\n",
    "plt.xlabel('REVENUE')\n",
    "plt.tight_layout()\n",
    "plt.savefig('Chef Data Histograms 7 of 7.png')\n",
    "plt.show()\n",
    "\n",
    "########################"
   ]
  },
  {
   "cell_type": "code",
   "execution_count": 43,
   "metadata": {},
   "outputs": [],
   "source": [
    "# I see the CONTACTS_W_CUSTOMER_SERVICE with additional outlier peak between[10,11,12], I want to flag this little peak\n",
    "chef['out_CONTACTS_W_CUSTOMER_SERVICE_outpeak'] = 0\n",
    "condition = chef.loc[0:,'out_CONTACTS_W_CUSTOMER_SERVICE_outpeak'][(chef['CONTACTS_W_CUSTOMER_SERVICE'] == 10) |\n",
    "                                                                   (chef['CONTACTS_W_CUSTOMER_SERVICE'] == 11) |\n",
    "                                                                   (chef['CONTACTS_W_CUSTOMER_SERVICE'] == 12)]\n",
    "chef['out_CONTACTS_W_CUSTOMER_SERVICE_outpeak'].replace(to_replace = condition,\n",
    "                                                        value      = 1,\n",
    "                                                        inplace    = True)\n"
   ]
  },
  {
   "cell_type": "code",
   "execution_count": 44,
   "metadata": {},
   "outputs": [],
   "source": [
    "# I see the MOBILE_LOGINS with obvious peak of [1,2], I want to flag this little peak\n",
    "chef['flag_MOBILE_LOGINS'] = 0\n",
    "condition = chef.loc[0:,'flag_MOBILE_LOGINS'][(chef['MOBILE_LOGINS'] == 1) |\n",
    "                                              (chef['MOBILE_LOGINS'] == 2) ]\n",
    "chef['flag_MOBILE_LOGINS'].replace(to_replace = condition,\n",
    "                                   value      = 1,\n",
    "                                   inplace    = True)"
   ]
  },
  {
   "cell_type": "code",
   "execution_count": 45,
   "metadata": {},
   "outputs": [],
   "source": [
    "# I see the MOBILE_LOGINS with obvious peak of [1,2], I want to flag this little peak\n",
    "chef['flag_PC_LOGINS'] = 0\n",
    "condition = chef.loc[0:,'flag_PC_LOGINS'][(chef['PC_LOGINS'] == 5) |\n",
    "                                          (chef['PC_LOGINS'] == 6) ]\n",
    "chef['flag_PC_LOGINS'].replace(to_replace = condition,\n",
    "                                   value      = 1,\n",
    "                                   inplace    = True)"
   ]
  },
  {
   "cell_type": "code",
   "execution_count": 46,
   "metadata": {},
   "outputs": [],
   "source": [
    "# I see the EARLY_DELIVERIES with obvious peak at 0, I want to flag this little peak\n",
    "chef['flag_EARLY_DELIVERIES'] = 0\n",
    "condition = chef.loc[0:,'flag_EARLY_DELIVERIES'][(chef['EARLY_DELIVERIES'] == 0)]\n",
    "chef['flag_EARLY_DELIVERIES'].replace(to_replace = condition,\n",
    "                                      value      = 1,\n",
    "                                      inplace    = True)"
   ]
  },
  {
   "cell_type": "code",
   "execution_count": 47,
   "metadata": {},
   "outputs": [],
   "source": [
    "# I see the WEEKLY_PLAN with obvious peak at 0, I want to flag this little peak\n",
    "chef['flag_WEEKLY_PLAN'] = 0\n",
    "condition = chef.loc[0:,'flag_WEEKLY_PLAN'][(chef['WEEKLY_PLAN'] == 0)]\n",
    "chef['flag_WEEKLY_PLAN'].replace(to_replace = condition,\n",
    "                                 value      = 1,\n",
    "                                 inplace    = True)"
   ]
  },
  {
   "cell_type": "code",
   "execution_count": 48,
   "metadata": {},
   "outputs": [],
   "source": [
    "# I see the CANCELLATIONS_AFTER_NOON with obvious peak at 0, I want to flag this little peak\n",
    "chef['flag_CANCELLATIONS_AFTER_NOON'] = 0\n",
    "condition = chef.loc[0:,'flag_CANCELLATIONS_AFTER_NOON'][(chef['CANCELLATIONS_AFTER_NOON'] == 0)]\n",
    "chef['flag_CANCELLATIONS_AFTER_NOON'].replace(to_replace = condition,\n",
    "                                              value      = 1,\n",
    "                                              inplace    = True)"
   ]
  },
  {
   "cell_type": "code",
   "execution_count": 49,
   "metadata": {},
   "outputs": [
    {
     "data": {
      "text/plain": [
       "(1946, 42)"
      ]
     },
     "execution_count": 49,
     "metadata": {},
     "output_type": "execute_result"
    }
   ],
   "source": [
    "chef.shape"
   ]
  },
  {
   "cell_type": "markdown",
   "metadata": {},
   "source": [
    "we are going to assume outlier thresholds base on above plots. Run the following code to generate the thresholds and create outlier flag columns."
   ]
  },
  {
   "cell_type": "code",
   "execution_count": 50,
   "metadata": {},
   "outputs": [],
   "source": [
    "# setting outlier thresholds\n",
    "TOTAL_MEALS_ORDERED_hi          = 150\n",
    "UNIQUE_MEALS_PURCH_hi           = 9\n",
    "CONTACTS_W_CUSTOMER_SERVICE_lo  = 3\n",
    "CONTACTS_W_CUSTOMER_SERVICE_hi  = 9\n",
    "AVG_TIME_PER_SITE_VISIT_hi      = 250\n",
    "CANCELLATIONS_BEFORE_NOON_hi    = 8\n",
    "CANCELLATIONS_AFTER_NOON_hi     = 2 \n",
    "WEEKLY_PLAN_hi                  = 15\n",
    "LATE_DELIVERIES_hi              = 10\n",
    "AVG_PREP_VID_TIME_hi            = 300\n",
    "LARGEST_ORDER_SIZE_hi           = 8\n",
    "MASTER_CLASSES_ATTENDED_hi      = 2\n",
    "AVG_CLICKS_PER_VISIT_lo         = 8\n",
    "AVG_CLICKS_PER_VISIT_hi         = 18\n",
    "TOTAL_PHOTOS_VIEWED_hi          = 500\n",
    "\n",
    "\n",
    "##############################################################################\n",
    "## Feature Engineering (outlier thresholds)                                 ##\n",
    "##############################################################################\n",
    "\n",
    "# developing features (columns) for outliers\n",
    "\n",
    "# TOTAL_MEALS_ORDERED\n",
    "chef['out_TOTAL_MEALS_ORDERED'] = 0                                      \n",
    "condition_hi = chef.loc[0:,'out_TOTAL_MEALS_ORDERED'][chef['TOTAL_MEALS_ORDERED'] > TOTAL_MEALS_ORDERED_hi] \n",
    "chef['out_TOTAL_MEALS_ORDERED'].replace(to_replace = condition_hi,\n",
    "                                        value      = 1,\n",
    "                                        inplace    = True)\n",
    "\n",
    "\n",
    "# UNIQUE_MEALS_PURCH\n",
    "chef['out_UNIQUE_MEALS_PURCH'] = 0                                   \n",
    "condition_hi = chef.loc[0:,'out_UNIQUE_MEALS_PURCH'][chef['UNIQUE_MEALS_PURCH'] > UNIQUE_MEALS_PURCH_hi] \n",
    "chef['out_UNIQUE_MEALS_PURCH'].replace(to_replace = condition_hi,\n",
    "                                       value      = 1,\n",
    "                                       inplace    = True)\n",
    "\n",
    "# CONTACTS_W_CUSTOMER_SERVICE_hi\n",
    "chef['out_CONTACTS_W_CUSTOMER_SERVICE_hi'] = 0\n",
    "condition_hi = chef.loc[0:,'out_CONTACTS_W_CUSTOMER_SERVICE_hi'][chef['CONTACTS_W_CUSTOMER_SERVICE'] > CONTACTS_W_CUSTOMER_SERVICE_hi]\n",
    "chef['out_CONTACTS_W_CUSTOMER_SERVICE_hi'].replace(to_replace = condition_hi,\n",
    "                                                   value      = 1,\n",
    "                                                   inplace    = True)\n",
    "\n",
    "\n",
    "# CONTACTS_W_CUSTOMER_SERVICE_lo\n",
    "chef['out_CONTACTS_W_CUSTOMER_SERVICE_lo'] = 0\n",
    "condition_lo = chef.loc[0:,'out_CONTACTS_W_CUSTOMER_SERVICE_lo'][chef['CONTACTS_W_CUSTOMER_SERVICE'] < CONTACTS_W_CUSTOMER_SERVICE_lo]\n",
    "chef['out_CONTACTS_W_CUSTOMER_SERVICE_lo'].replace(to_replace = condition_lo,\n",
    "                                                   value      = 1,\n",
    "                                                   inplace    = True) \n",
    "\n",
    "\n",
    "# AVG_TIME_PER_SITE_VISIT\n",
    "chef['out_AVG_TIME_PER_SITE_VISIT'] = 0                                      \n",
    "condition_hi = chef.loc[0:,'out_AVG_TIME_PER_SITE_VISIT'][chef['AVG_TIME_PER_SITE_VISIT'] > AVG_TIME_PER_SITE_VISIT_hi] \n",
    "chef['out_AVG_TIME_PER_SITE_VISIT'].replace(to_replace = condition_hi,\n",
    "                                            value      = 1,\n",
    "                                            inplace    = True)\n",
    "\n",
    "# CANCELLATIONS_BEFORE_NOON\n",
    "chef['out_CANCELLATIONS_BEFORE_NOON'] = 0                                      \n",
    "condition_hi = chef.loc[0:,'out_CANCELLATIONS_BEFORE_NOON'][chef['CANCELLATIONS_BEFORE_NOON'] > CANCELLATIONS_BEFORE_NOON_hi] \n",
    "chef['out_CANCELLATIONS_BEFORE_NOON'].replace(to_replace = condition_hi,\n",
    "                                              value      = 1,\n",
    "                                              inplace    = True)  \n",
    "\n",
    "# CANCELLATIONS_AFTER_NOON\n",
    "chef['out_CANCELLATIONS_AFTER_NOON'] = 0                                      \n",
    "condition_hi = chef.loc[0:,'out_CANCELLATIONS_AFTER_NOON'][chef['CANCELLATIONS_AFTER_NOON'] > CANCELLATIONS_AFTER_NOON_hi] \n",
    "chef['out_CANCELLATIONS_AFTER_NOON'].replace(to_replace = condition_hi,\n",
    "                                             value      = 1,\n",
    "                                             inplace    = True) \n",
    "\n",
    "#WEEKLY_PLAN\n",
    "chef['out_WEEKLY_PLAN'] = 0                                      \n",
    "condition_hi = chef.loc[0:,'out_WEEKLY_PLAN'][chef['WEEKLY_PLAN'] > WEEKLY_PLAN_hi] \n",
    "chef['out_WEEKLY_PLAN'].replace(to_replace = condition_hi,\n",
    "                                value      = 1,\n",
    "                                inplace    = True)\n",
    "\n",
    "# LATE_DELIVERIES\n",
    "chef['out_LATE_DELIVERIES'] = 0                                      \n",
    "condition_hi = chef.loc[0:,'out_LATE_DELIVERIES'][chef['LATE_DELIVERIES'] > LATE_DELIVERIES_hi] \n",
    "chef['out_LATE_DELIVERIES'].replace(to_replace = condition_hi,\n",
    "                                    value      = 1,\n",
    "                                    inplace    = True)\n",
    "\n",
    "# AVG_PREP_VID_TIME\n",
    "chef['out_AVG_PREP_VID_TIME'] = 0                                      \n",
    "condition_hi = chef.loc[0:,'out_AVG_PREP_VID_TIME'][chef['AVG_PREP_VID_TIME'] > AVG_PREP_VID_TIME_hi] \n",
    "chef['out_AVG_PREP_VID_TIME'].replace(to_replace = condition_hi,\n",
    "                                      value      = 1,\n",
    "                                      inplace    = True)\n",
    "\n",
    "# LARGEST_ORDER_SIZE\n",
    "chef['out_LARGEST_ORDER_SIZE'] = 0                                      \n",
    "condition_hi = chef.loc[0:,'out_LARGEST_ORDER_SIZE'][chef['LARGEST_ORDER_SIZE'] > LARGEST_ORDER_SIZE_hi] \n",
    "chef['out_LARGEST_ORDER_SIZE'].replace(to_replace = condition_hi,\n",
    "                                       value      = 1,\n",
    "                                       inplace    = True)\n",
    "\n",
    "# MASTER_CLASSES_ATTENDED\n",
    "chef['out_MASTER_CLASSES_ATTENDED'] = 0                                      \n",
    "condition_hi = chef.loc[0:,'out_MASTER_CLASSES_ATTENDED'][chef['MASTER_CLASSES_ATTENDED'] > MASTER_CLASSES_ATTENDED_hi] \n",
    "chef['out_MASTER_CLASSES_ATTENDED'].replace(to_replace = condition_hi,\n",
    "                                            value      = 1,\n",
    "                                            inplace    = True)\n",
    "\n",
    "# AVG_CLICKS_PER_VISIT_hi\n",
    "chef['out_AVG_CLICKS_PER_VISIT_hi'] = 0\n",
    "condition_hi = chef.loc[0:,'out_AVG_CLICKS_PER_VISIT_hi'][chef['AVG_CLICKS_PER_VISIT'] > AVG_CLICKS_PER_VISIT_hi]\n",
    "chef['out_AVG_CLICKS_PER_VISIT_hi'].replace(to_replace = condition_hi,\n",
    "                                            value      = 1,\n",
    "                                            inplace    = True)\n",
    "\n",
    "\n",
    "# AVG_CLICKS_PER_VISIT_lo\n",
    "chef['out_AVG_CLICKS_PER_VISIT_lo'] = 0\n",
    "condition_lo = chef.loc[0:,'out_AVG_CLICKS_PER_VISIT_lo'][chef['AVG_CLICKS_PER_VISIT'] < AVG_CLICKS_PER_VISIT_lo]\n",
    "chef['out_AVG_CLICKS_PER_VISIT_lo'].replace(to_replace = condition_lo,\n",
    "                                            value      = 1,\n",
    "                                            inplace    = True)\n",
    "\n",
    "\n",
    "# TOTAL_PHOTOS_VIEWED\n",
    "chef['out_TOTAL_PHOTOS_VIEWED'] = 0                                      \n",
    "condition_hi = chef.loc[0:,'out_TOTAL_PHOTOS_VIEWED'][chef['TOTAL_PHOTOS_VIEWED'] > TOTAL_PHOTOS_VIEWED_hi] \n",
    "chef['out_TOTAL_PHOTOS_VIEWED'].replace(to_replace = condition_hi,\n",
    "                                        value      = 1,\n",
    "                                        inplace    = True)\n",
    "\n",
    "\n"
   ]
  },
  {
   "cell_type": "code",
   "execution_count": 51,
   "metadata": {},
   "outputs": [],
   "source": [
    "# # saving results\n",
    "# chef.to_excel('chef_feature_rich.xlsx',\n",
    "#                  index = False)\n",
    "# # loading saved file\n",
    "# chef = pd.read_excel('chef_feature_rich.xlsx')\n"
   ]
  },
  {
   "cell_type": "code",
   "execution_count": 52,
   "metadata": {},
   "outputs": [
    {
     "data": {
      "text/plain": [
       "(1946, 57)"
      ]
     },
     "execution_count": 52,
     "metadata": {},
     "output_type": "execute_result"
    }
   ],
   "source": [
    "chef.shape"
   ]
  },
  {
   "cell_type": "markdown",
   "metadata": {},
   "source": [
    "***\n",
    "***\n",
    "\n",
    "<h3>Part V - Developing Trend-Based Features</h3>\n",
    "\n",
    "<br>\n",
    "<strong>Purpose: Develop thresholds at points where the trend changes.</strong><br><br>\n",
    "My goal here is to identify where a variable's trend changes in terms of its relationship with what we are trying to predict (in this case, Revenue). In other words, if we analyze a scatterplot and see that the trend between two variables is not consistent, we can capture this information and it may help us improve our predictions as well as help generate insights. We can decide to do this at any point in the graph.<br><br>\n",
    "Let's look at some scatterplots between Revenue and our response variable. "
   ]
  },
  {
   "cell_type": "code",
   "execution_count": 53,
   "metadata": {},
   "outputs": [
    {
     "data": {
      "image/png": "[encoded data removed]",
      "text/plain": [
       "<Figure size 720x576 with 4 Axes>"
      ]
     },
     "metadata": {
      "needs_background": "light"
     },
     "output_type": "display_data"
    },
    {
     "data": {
      "image/png": "[encoded data removed]",
      "text/plain": [
       "<Figure size 720x576 with 4 Axes>"
      ]
     },
     "metadata": {
      "needs_background": "light"
     },
     "output_type": "display_data"
    },
    {
     "data": {
      "image/png": "[encoded data removed]",
      "text/plain": [
       "<Figure size 720x576 with 4 Axes>"
      ]
     },
     "metadata": {
      "needs_background": "light"
     },
     "output_type": "display_data"
    },
    {
     "data": {
      "image/png": "[encoded data removed]",
      "text/plain": [
       "<Figure size 720x576 with 4 Axes>"
      ]
     },
     "metadata": {
      "needs_background": "light"
     },
     "output_type": "display_data"
    },
    {
     "data": {
      "image/png": "[encoded data removed]",
      "text/plain": [
       "<Figure size 720x576 with 4 Axes>"
      ]
     },
     "metadata": {
      "needs_background": "light"
     },
     "output_type": "display_data"
    },
    {
     "data": {
      "image/png": "[encoded data removed]",
      "text/plain": [
       "<Figure size 720x576 with 4 Axes>"
      ]
     },
     "metadata": {
      "needs_background": "light"
     },
     "output_type": "display_data"
    }
   ],
   "source": [
    "########################\n",
    "# Visual EDA (Scatterplots)\n",
    "########################1\n",
    "\n",
    "fig, ax = plt.subplots(figsize = (10, 8))\n",
    "plt.subplot(2, 2, 1)\n",
    "sns.scatterplot(x = chef['CROSS_SELL_SUCCESS'],\n",
    "                y = chef['REVENUE'],\n",
    "                color = 'g')\n",
    "plt.xlabel('CROSS_SELL_SUCCESS')\n",
    "\n",
    "########################\n",
    "\n",
    "plt.subplot(2, 2, 2)\n",
    "sns.scatterplot(x = chef['TOTAL_MEALS_ORDERED'],\n",
    "                y = chef['REVENUE'],\n",
    "                color = 'y')\n",
    "plt.xlabel('TOTAL_MEALS_ORDERED')\n",
    "\n",
    "########################\n",
    "\n",
    "plt.subplot(2, 2, 3)\n",
    "sns.scatterplot(x = chef['UNIQUE_MEALS_PURCH'],\n",
    "                y = chef['REVENUE'],\n",
    "                color = 'orange')\n",
    "plt.xlabel('UNIQUE_MEALS_PURCH')\n",
    "\n",
    "########################\n",
    "plt.subplot(2, 2, 4)\n",
    "sns.scatterplot(x = chef['CONTACTS_W_CUSTOMER_SERVICE'],\n",
    "                y = chef['REVENUE'],\n",
    "                color = 'r')\n",
    "plt.xlabel('CONTACTS_W_CUSTOMER_SERVICE')\n",
    "plt.tight_layout()\n",
    "plt.savefig('Chef Data Scatterplots 1 of 7.png')\n",
    "plt.show()\n",
    "\n",
    "########################\n",
    "########################2\n",
    "\n",
    "fig, ax = plt.subplots(figsize = (10, 8))\n",
    "plt.subplot(2, 2, 1)\n",
    "sns.scatterplot(x = chef['PRODUCT_CATEGORIES_VIEWED'],\n",
    "                y = chef['REVENUE'],\n",
    "                color = 'g')\n",
    "plt.xlabel('PRODUCT_CATEGORIES_VIEWED')\n",
    "\n",
    "########################\n",
    "\n",
    "plt.subplot(2, 2, 2)\n",
    "sns.scatterplot(x = chef['AVG_TIME_PER_SITE_VISIT'],\n",
    "                y = chef['REVENUE'],\n",
    "                color = 'y')\n",
    "plt.xlabel('AVG_TIME_PER_SITE_VISIT')\n",
    "\n",
    "########################\n",
    "\n",
    "plt.subplot(2, 2, 3)\n",
    "sns.scatterplot(x = chef['MOBILE_NUMBER'],\n",
    "                y = chef['REVENUE'],\n",
    "                color = 'orange')\n",
    "plt.xlabel('MOBILE_NUMBER')\n",
    "\n",
    "########################\n",
    "\n",
    "plt.subplot(2, 2, 4)\n",
    "sns.scatterplot(x = chef['CANCELLATIONS_BEFORE_NOON'],\n",
    "                y = chef['REVENUE'],\n",
    "                color = 'r')\n",
    "plt.xlabel('CANCELLATIONS_BEFORE_NOON')\n",
    "plt.tight_layout()\n",
    "plt.savefig('Chef Data Scatterplots 2 of 7.png')\n",
    "plt.show()\n",
    "\n",
    "########################\n",
    "########################3\n",
    "\n",
    "fig, ax = plt.subplots(figsize = (10, 8))\n",
    "plt.subplot(2, 2, 1)\n",
    "sns.scatterplot(x = chef['CANCELLATIONS_AFTER_NOON'],\n",
    "                y = chef['REVENUE'],\n",
    "                color = 'y')\n",
    "plt.xlabel('CANCELLATIONS_AFTER_NOON')\n",
    "\n",
    "########################\n",
    "\n",
    "plt.subplot(2, 2, 2)\n",
    "sns.scatterplot(x = chef['TASTES_AND_PREFERENCES'],\n",
    "                y = chef['REVENUE'],\n",
    "                color = 'orange')\n",
    "plt.xlabel('TASTES_AND_PREFERENCES')\n",
    "\n",
    "########################\n",
    "\n",
    "plt.subplot(2, 2, 3)\n",
    "sns.scatterplot(x = chef['PC_LOGINS'],\n",
    "                y = chef['REVENUE'],\n",
    "                color = 'r')\n",
    "plt.xlabel('PC_LOGINS')\n",
    "\n",
    "########################\n",
    "\n",
    "plt.subplot(2, 2, 4)\n",
    "sns.scatterplot(x = chef['MOBILE_LOGINS'],\n",
    "                y = chef['REVENUE'],\n",
    "                color = 'g')\n",
    "plt.xlabel('MOBILE_LOGINS')\n",
    "plt.tight_layout()\n",
    "plt.savefig('Chef Data Scatterplots 3 of 7.png')\n",
    "plt.show()\n",
    "\n",
    "########################\n",
    "########################4\n",
    "\n",
    "fig, ax = plt.subplots(figsize = (10, 8))\n",
    "plt.subplot(2, 2, 1)\n",
    "sns.scatterplot(x = chef['WEEKLY_PLAN'],\n",
    "                y = chef['REVENUE'],\n",
    "                color = 'y')\n",
    "plt.xlabel('WEEKLY_PLAN')\n",
    "\n",
    "########################\n",
    "\n",
    "plt.subplot(2, 2, 2)\n",
    "sns.scatterplot(x = chef['EARLY_DELIVERIES'],\n",
    "                y = chef['REVENUE'],\n",
    "                color = 'orange')\n",
    "plt.xlabel('EARLY_DELIVERIES')\n",
    "########################\n",
    "\n",
    "plt.subplot(2, 2, 3)\n",
    "sns.scatterplot(x = chef['LATE_DELIVERIES'],\n",
    "                y = chef['REVENUE'],\n",
    "                color = 'g')\n",
    "plt.xlabel('LATE_DELIVERIES')\n",
    "########################\n",
    "\n",
    "plt.subplot(2, 2, 4)\n",
    "sns.scatterplot(x = chef['PACKAGE_LOCKER'],\n",
    "                y = chef['REVENUE'],\n",
    "                color = 'r')\n",
    "plt.xlabel('PACKAGE_LOCKER')\n",
    "\n",
    "plt.tight_layout()\n",
    "plt.savefig('Chef Data Scatterplots 4 of 7.png')\n",
    "plt.show()\n",
    "\n",
    "########################\n",
    "########################5\n",
    "\n",
    "fig, ax = plt.subplots(figsize = (10, 8))\n",
    "plt.subplot(2, 2, 1)\n",
    "sns.scatterplot(x = chef['REFRIGERATED_LOCKER'],\n",
    "                y = chef['REVENUE'],\n",
    "                color = 'g')\n",
    "plt.xlabel('REFRIGERATED_LOCKER')\n",
    "\n",
    "########################\n",
    "\n",
    "plt.subplot(2, 2, 2)\n",
    "sns.scatterplot(x = chef['FOLLOWED_RECOMMENDATIONS_PCT'],\n",
    "                y = chef['REVENUE'],\n",
    "                color = 'y')\n",
    "plt.xlabel('FOLLOWED_RECOMMENDATIONS_PCT')\n",
    "\n",
    "########################\n",
    "\n",
    "plt.subplot(2, 2, 3)\n",
    "sns.scatterplot(x = chef['AVG_PREP_VID_TIME'],\n",
    "                y = chef['REVENUE'],\n",
    "                color = 'orange')\n",
    "plt.xlabel('AVG_PREP_VID_TIME')\n",
    "\n",
    "########################\n",
    "plt.subplot(2, 2, 4)\n",
    "sns.scatterplot(x = chef['LARGEST_ORDER_SIZE'],\n",
    "                y = chef['REVENUE'],\n",
    "                color = 'r')\n",
    "plt.xlabel('LARGEST_ORDER_SIZE')\n",
    "plt.tight_layout()\n",
    "plt.savefig('Chef Data Scatterplots 5 of 7.png')\n",
    "plt.show()\n",
    "\n",
    "########################\n",
    "########################6\n",
    "fig, ax = plt.subplots(figsize = (10, 8))\n",
    "plt.subplot(2, 2, 1)\n",
    "sns.scatterplot(x = chef['MASTER_CLASSES_ATTENDED'],\n",
    "                y = chef['REVENUE'],\n",
    "                color = 'g')\n",
    "plt.xlabel('MASTER_CLASSES_ATTENDED')\n",
    "\n",
    "########################\n",
    "\n",
    "plt.subplot(2, 2, 2)\n",
    "sns.scatterplot(x = chef['MEDIAN_MEAL_RATING'],\n",
    "                y = chef['REVENUE'],\n",
    "                color = 'y')\n",
    "plt.xlabel('MEDIAN_MEAL_RATING')\n",
    "\n",
    "########################\n",
    "\n",
    "plt.subplot(2, 2, 3)\n",
    "sns.scatterplot(x = chef['AVG_CLICKS_PER_VISIT'],\n",
    "                y = chef['REVENUE'],\n",
    "                color = 'orange')\n",
    "plt.xlabel('AVG_CLICKS_PER_VISIT')\n",
    "\n",
    "########################\n",
    "plt.subplot(2, 2, 4)\n",
    "sns.scatterplot(x = chef['TOTAL_PHOTOS_VIEWED'],\n",
    "                y = chef['REVENUE'],\n",
    "                color = 'r')\n",
    "plt.xlabel('TOTAL_PHOTOS_VIEWED')\n",
    "plt.tight_layout()\n",
    "plt.savefig('Chef Data Scatterplots 6 of 7.png')\n",
    "plt.show()\n",
    "\n",
    "########################\n",
    "########################7\n",
    "\n",
    "# fig, ax = plt.subplots(figsize = (10, 8))\n",
    "# plt.subplot(2, 2, 1)\n",
    "# sns.scatterplot(x = chef['out_CONTACTS_W_CUSTOMER_SERVICE_outpeak'],\n",
    "#                 y = chef['REVENUE'],\n",
    "#                 color = 'g')\n",
    "# plt.xlabel('out_CONTACTS_W_CUSTOMER_SERVICE_outpeak')\n",
    "\n",
    "# ########################\n",
    "\n",
    "# plt.subplot(2, 2, 2)\n",
    "# sns.scatterplot(x = chef['flag_MOBILE_LOGINS'],\n",
    "#                 y = chef['REVENUE'],\n",
    "#                 color = 'y')\n",
    "# plt.xlabel('flag_MOBILE_LOGINS')\n",
    "\n",
    "# ########################\n",
    "\n",
    "# plt.subplot(2, 2, 3)\n",
    "# sns.scatterplot(x = chef['flag_PC_LOGINS'],\n",
    "#                 y = chef['REVENUE'],\n",
    "#                 color = 'orange')\n",
    "# plt.xlabel('flag_PC_LOGINS')\n",
    "\n",
    "# ########################\n",
    "# plt.subplot(2, 2, 4)\n",
    "# sns.scatterplot(x = chef['flag_EARLY_DELIVERIES'],\n",
    "#                 y = chef['REVENUE'],\n",
    "#                 color = 'r')\n",
    "# plt.xlabel('flag_EARLY_DELIVERIES')\n",
    "# plt.tight_layout()\n",
    "# plt.savefig('Chef Data Scatterplots 1 of 7.png')\n",
    "# plt.show()\n",
    "\n",
    "# ########################\n",
    "\n"
   ]
  },
  {
   "cell_type": "markdown",
   "metadata": {},
   "source": [
    "After observing the scatterplots above, develop trend-based thresholds based on what you see."
   ]
  },
  {
   "cell_type": "code",
   "execution_count": 54,
   "metadata": {},
   "outputs": [],
   "source": [
    "#chef['TOTAL_MEALS_ORDERED'][chef['REVENUE']<2000].min()"
   ]
  },
  {
   "cell_type": "code",
   "execution_count": 55,
   "metadata": {},
   "outputs": [],
   "source": [
    "# setting trend-based thresholds\n",
    "# CONTACTS_W_CUSTOMER_SERVICE_change_hi     = 10  #trend changes above this point \n",
    "LARGEST_ORDER_SIZE_change_hi              = 5   # trend changes above this point                      \n",
    "# LATE_DELIVERIES_change_hi                 =15   # trend changes above this point\n",
    "AVG_CLICKS_PER_VISIT_change_hi            =10   # trend changes above this point\n",
    "TOTAL_PHOTOS_VIEWED_change_hi             =800  # data scatters above this point\n",
    "TOTAL_MEALS_ORDERED_change_lo             = 20\n",
    "\n",
    "#MOBILE_LOGINS_change_at                   = 1   # only different at 0\n",
    "# MEDIAN_MEAL_RATING_change_at              = 4   \n",
    "TOTAL_PHOTOS_VIEWED_change_at             = 0   # zero inflated\n",
    "# PC_LOGINS_change_at                       = 4   # only different at 4\n",
    "MASTER_CLASSES_ATTENDED_change_at         = 1   # only different at 3"
   ]
  },
  {
   "cell_type": "code",
   "execution_count": 56,
   "metadata": {},
   "outputs": [
    {
     "data": {
      "text/plain": [
       "(1946, 57)"
      ]
     },
     "execution_count": 56,
     "metadata": {},
     "output_type": "execute_result"
    }
   ],
   "source": [
    "chef.shape"
   ]
  },
  {
   "cell_type": "markdown",
   "metadata": {},
   "source": [
    "Develop trend-based features using my chosen thresholds changes above."
   ]
  },
  {
   "cell_type": "code",
   "execution_count": 57,
   "metadata": {},
   "outputs": [],
   "source": [
    "##############################################################################\n",
    "## Feature Engineering (trend changes)                                      ##\n",
    "##############################################################################\n",
    "\n",
    "# developing features (columns) for outliers\n",
    "\n",
    "########################################\n",
    "## change above threshold             ##\n",
    "########################################\n",
    "\n",
    "# greater than sign\n",
    "\n",
    "# # CONTACTS_W_CUSTOMER_SERVICE\n",
    "# chef['change_CONTACTS_W_CUSTOMER_SERVICE'] = 0\n",
    "# condition = chef.loc[0:,'change_CONTACTS_W_CUSTOMER_SERVICE'][chef['CONTACTS_W_CUSTOMER_SERVICE'] > CONTACTS_W_CUSTOMER_SERVICE_change_hi]\n",
    "\n",
    "# chef['change_CONTACTS_W_CUSTOMER_SERVICE'].replace(to_replace = condition,\n",
    "#                                                    value      = 1,\n",
    "#                                                    inplace    = True)\n",
    "\n",
    "\n",
    "\n",
    "# LARGEST_ORDER_SIZE\n",
    "chef['change_LARGEST_ORDER_SIZE'] = 0\n",
    "condition = chef.loc[0:,'change_LARGEST_ORDER_SIZE'][chef['LARGEST_ORDER_SIZE'] > LARGEST_ORDER_SIZE_change_hi]\n",
    "\n",
    "chef['change_LARGEST_ORDER_SIZE'].replace(to_replace = condition,\n",
    "                                          value      = 1,\n",
    "                                          inplace    = True)\n",
    "\n",
    "\n",
    "# # LATE_DELIVERIES\n",
    "# chef['change_LATE_DELIVERIES'] = 0\n",
    "# condition = chef.loc[0:,'change_LATE_DELIVERIES'][chef['LATE_DELIVERIES'] > LATE_DELIVERIES_change_hi]\n",
    "\n",
    "# chef['change_LATE_DELIVERIES'].replace(to_replace = condition,\n",
    "#                                        value      = 1,\n",
    "#                                        inplace    = True)\n",
    "\n",
    "# TOTAL_MEALS_ORDERED\n",
    "chef['change_TOTAL_MEALS_ORDERED'] = 0\n",
    "condition = chef.loc[0:,'change_TOTAL_MEALS_ORDERED'][chef['TOTAL_MEALS_ORDERED'] < TOTAL_MEALS_ORDERED_change_lo]\n",
    "\n",
    "chef['change_TOTAL_MEALS_ORDERED'].replace(to_replace = condition,\n",
    "                                           value      = 1,\n",
    "                                           inplace    = True)\n",
    "\n",
    "########################################\n",
    "## change at threshold                ##\n",
    "########################################\n",
    "\n",
    "# double-equals sign\n",
    "\n",
    "# # MOBILE_LOGINS\n",
    "# chef['change_MOBILE_LOGINS'] = 0\n",
    "# condition = chef.loc[0:,'change_MOBILE_LOGINS'][chef['MOBILE_LOGINS'] == MOBILE_LOGINS_change_at]\n",
    "\n",
    "# chef['change_MOBILE_LOGINS'].replace(to_replace = condition,\n",
    "#                                      value      = 1,\n",
    "#                                      inplace    = True)\n",
    "# #PC_LOGINS\n",
    "# chef['change_PC_LOGINS'] = 0\n",
    "# condition = chef.loc[0:,'change_PC_LOGINS'][chef['PC_LOGINS'] == PC_LOGINS_change_at]\n",
    "\n",
    "# chef['change_PC_LOGINS'].replace(to_replace = condition,\n",
    "#                                  value      = 1,\n",
    "#                                  inplace    = True)\n",
    "\n",
    "# # MEDIAN_MEAL_RATING \n",
    "# chef['change_MEDIAN_MEAL_RATING'] = 0\n",
    "# condition = chef.loc[0:,'change_MEDIAN_MEAL_RATING'][chef['MEDIAN_MEAL_RATING'] == MEDIAN_MEAL_RATING_change_at]\n",
    "\n",
    "# chef['change_MEDIAN_MEAL_RATING'].replace(to_replace = condition,\n",
    "#                                           value      = 1,\n",
    "#                                           inplace    = True)\n",
    "\n",
    "\n",
    "# TOTAL_PHOTOS_VIEWED\n",
    "chef['change_TOTAL_PHOTOS_VIEWED'] = 0\n",
    "condition = chef.loc[0:,'change_TOTAL_PHOTOS_VIEWED'][chef['TOTAL_PHOTOS_VIEWED'] == TOTAL_PHOTOS_VIEWED_change_at]\n",
    "\n",
    "chef['change_TOTAL_PHOTOS_VIEWED'].replace(to_replace = condition,\n",
    "                                           value      = 1,\n",
    "                                           inplace    = True)\n",
    "\n",
    "# MASTER_CLASSES_ATTENDED\n",
    "chef['change_MASTER_CLASSES_ATTENDED'] = 0\n",
    "condition = chef.loc[0:,'change_MASTER_CLASSES_ATTENDED'][chef['MASTER_CLASSES_ATTENDED'] == MASTER_CLASSES_ATTENDED_change_at]\n",
    "\n",
    "chef['change_MASTER_CLASSES_ATTENDED'].replace(to_replace = condition,\n",
    "                                               value      = 1,\n",
    "                                               inplace    = True)"
   ]
  },
  {
   "cell_type": "code",
   "execution_count": 58,
   "metadata": {},
   "outputs": [
    {
     "data": {
      "text/plain": [
       "(1946, 61)"
      ]
     },
     "execution_count": 58,
     "metadata": {},
     "output_type": "execute_result"
    }
   ],
   "source": [
    "chef.shape"
   ]
  },
  {
   "cell_type": "code",
   "execution_count": 59,
   "metadata": {},
   "outputs": [],
   "source": [
    "# # saving feature-rich dataset in Excel\n",
    "# chef.to_excel('chef_feature_rich.xlsx',\n",
    "#                  index = False)\n",
    "\n",
    "# # loading saved file\n",
    "# chef = pd.read_excel('chef_feature_rich.xlsx')"
   ]
  },
  {
   "cell_type": "markdown",
   "metadata": {},
   "source": [
    "***\n",
    "***\n",
    "\n",
    "<h2>STEP III: Building Predictive Models</h2>\n"
   ]
  },
  {
   "cell_type": "markdown",
   "metadata": {},
   "source": [
    "***\n",
    "***\n",
    "\n",
    "<h3>Part I - Develop a (Pearson) correlation </h3>\n",
    "\n",
    "<br>\n",
    "<strong>Purpose: Find the relationship between revenue and all of features, so we can figure out which are most important feature to affect revenue.</strong><br><br>\n",
    "\n",
    "Write a code to develop a (Pearson) correlation matrix with data rounded to two decimal places. Then, print the results rounded to two decimal places."
   ]
  },
  {
   "cell_type": "code",
   "execution_count": 60,
   "metadata": {},
   "outputs": [],
   "source": [
    "# # creating a (Pearson) correlation matrix\n",
    "# df_corr = chef.corr().round(2)\n",
    "\n",
    "\n",
    "# # printing (Pearson) correlations with SalePrice\n",
    "# print(df_corr.loc[:,'REVENUE'].sort_values(ascending = False))"
   ]
  },
  {
   "cell_type": "markdown",
   "metadata": {},
   "source": [
    "<b>Insight: </b> <br>\n",
    "These eight features are high positive affect revenue: <br> AVG_PREP_VID_TIME <br>MEDIAN_MEAL_RATING <br>TOTAL_MEALS_ORDERED<br>TOTAL_PHOTOS_VIEWED<br>MASTER_CLASSES_ATTENDED<br>LARGEST_ORDER_SIZE<br>change_LARGEST_ORDER_SIZE<br>out_TOTAL_MEALS_ORDERED<br> <br>\n",
    "These three features are high negative affect revenue:<br>\n",
    "AVG_CLICKS_PER_VISIT<br> change_TOTAL_PHOTOS_VIEWED<br> change_CONTACTS_W_CUSTOMER_SERVICE"
   ]
  },
  {
   "cell_type": "markdown",
   "metadata": {},
   "source": [
    "***\n",
    "***\n",
    "\n",
    "<h3>Part II - Preparing for Model Building </h3>\n",
    "\n"
   ]
  },
  {
   "cell_type": "code",
   "execution_count": 61,
   "metadata": {},
   "outputs": [],
   "source": [
    "#chef = chef.drop(['MEDIAN_MEAL_RATING'],axis=1)\n"
   ]
  },
  {
   "cell_type": "code",
   "execution_count": 62,
   "metadata": {},
   "outputs": [
    {
     "data": {
      "text/plain": [
       "(1946, 61)"
      ]
     },
     "execution_count": 62,
     "metadata": {},
     "output_type": "execute_result"
    }
   ],
   "source": [
    "chef.shape"
   ]
  },
  {
   "cell_type": "code",
   "execution_count": 63,
   "metadata": {},
   "outputs": [
    {
     "data": {
      "text/plain": [
       "Index(['REVENUE', 'CROSS_SELL_SUCCESS', 'TOTAL_MEALS_ORDERED', 'UNIQUE_MEALS_PURCH', 'CONTACTS_W_CUSTOMER_SERVICE', 'PRODUCT_CATEGORIES_VIEWED', 'AVG_TIME_PER_SITE_VISIT', 'MOBILE_NUMBER', 'CANCELLATIONS_BEFORE_NOON', 'CANCELLATIONS_AFTER_NOON', 'TASTES_AND_PREFERENCES', 'PC_LOGINS', 'MOBILE_LOGINS', 'WEEKLY_PLAN', 'EARLY_DELIVERIES', 'LATE_DELIVERIES', 'PACKAGE_LOCKER', 'REFRIGERATED_LOCKER', 'FOLLOWED_RECOMMENDATIONS_PCT', 'AVG_PREP_VID_TIME', 'LARGEST_ORDER_SIZE', 'MASTER_CLASSES_ATTENDED', 'MEDIAN_MEAL_RATING', 'AVG_CLICKS_PER_VISIT', 'TOTAL_PHOTOS_VIEWED', 'm_FAMILY_NAME', 'number_of_names', 'number_of_names_out', 'junk_email', 'personal_email', 'professional_email', 'MEDIAN_MEAL_RATING_1', 'MEDIAN_MEAL_RATING_2', 'MEDIAN_MEAL_RATING_3', 'MEDIAN_MEAL_RATING_4', 'MEDIAN_MEAL_RATING_5', 'out_CONTACTS_W_CUSTOMER_SERVICE_outpeak', 'flag_MOBILE_LOGINS', 'flag_PC_LOGINS', 'flag_EARLY_DELIVERIES', 'flag_WEEKLY_PLAN', 'flag_CANCELLATIONS_AFTER_NOON', 'out_TOTAL_MEALS_ORDERED',\n",
       "       'out_UNIQUE_MEALS_PURCH', 'out_CONTACTS_W_CUSTOMER_SERVICE_hi', 'out_CONTACTS_W_CUSTOMER_SERVICE_lo', 'out_AVG_TIME_PER_SITE_VISIT', 'out_CANCELLATIONS_BEFORE_NOON', 'out_CANCELLATIONS_AFTER_NOON', 'out_WEEKLY_PLAN', 'out_LATE_DELIVERIES', 'out_AVG_PREP_VID_TIME', 'out_LARGEST_ORDER_SIZE', 'out_MASTER_CLASSES_ATTENDED', 'out_AVG_CLICKS_PER_VISIT_hi', 'out_AVG_CLICKS_PER_VISIT_lo', 'out_TOTAL_PHOTOS_VIEWED', 'change_LARGEST_ORDER_SIZE', 'change_TOTAL_MEALS_ORDERED', 'change_TOTAL_PHOTOS_VIEWED', 'change_MASTER_CLASSES_ATTENDED'],\n",
       "      dtype='object')"
      ]
     },
     "execution_count": 63,
     "metadata": {},
     "output_type": "execute_result"
    }
   ],
   "source": [
    "chef.columns"
   ]
  },
  {
   "cell_type": "code",
   "execution_count": 64,
   "metadata": {},
   "outputs": [],
   "source": [
    "# preparing x-variables\n",
    "x_variables =['CROSS_SELL_SUCCESS', 'TOTAL_MEALS_ORDERED', 'UNIQUE_MEALS_PURCH', 'CONTACTS_W_CUSTOMER_SERVICE', 'PRODUCT_CATEGORIES_VIEWED', 'AVG_TIME_PER_SITE_VISIT', 'MOBILE_NUMBER', 'CANCELLATIONS_BEFORE_NOON', 'CANCELLATIONS_AFTER_NOON', 'TASTES_AND_PREFERENCES', 'PC_LOGINS', 'MOBILE_LOGINS', 'WEEKLY_PLAN', 'EARLY_DELIVERIES', 'LATE_DELIVERIES', 'PACKAGE_LOCKER', 'REFRIGERATED_LOCKER', 'FOLLOWED_RECOMMENDATIONS_PCT', 'AVG_PREP_VID_TIME', 'LARGEST_ORDER_SIZE', 'MASTER_CLASSES_ATTENDED', 'MEDIAN_MEAL_RATING', 'AVG_CLICKS_PER_VISIT', 'TOTAL_PHOTOS_VIEWED', 'm_FAMILY_NAME', 'number_of_names', 'number_of_names_out', 'junk_email', 'personal_email', 'professional_email', 'MEDIAN_MEAL_RATING_1', 'MEDIAN_MEAL_RATING_2', 'MEDIAN_MEAL_RATING_3', 'MEDIAN_MEAL_RATING_4', 'MEDIAN_MEAL_RATING_5', 'out_CONTACTS_W_CUSTOMER_SERVICE_outpeak', 'flag_MOBILE_LOGINS', 'flag_PC_LOGINS', 'flag_EARLY_DELIVERIES', 'flag_WEEKLY_PLAN', 'flag_CANCELLATIONS_AFTER_NOON', 'out_TOTAL_MEALS_ORDERED',\n",
    "       'out_UNIQUE_MEALS_PURCH', 'out_CONTACTS_W_CUSTOMER_SERVICE_hi', 'out_CONTACTS_W_CUSTOMER_SERVICE_lo', 'out_AVG_TIME_PER_SITE_VISIT', 'out_CANCELLATIONS_BEFORE_NOON', 'out_CANCELLATIONS_AFTER_NOON', 'out_WEEKLY_PLAN', 'out_LATE_DELIVERIES', 'out_AVG_PREP_VID_TIME', 'out_LARGEST_ORDER_SIZE', 'out_MASTER_CLASSES_ATTENDED', 'out_AVG_CLICKS_PER_VISIT_hi', 'out_AVG_CLICKS_PER_VISIT_lo', 'out_TOTAL_PHOTOS_VIEWED', 'change_LARGEST_ORDER_SIZE', 'change_TOTAL_MEALS_ORDERED', 'change_TOTAL_PHOTOS_VIEWED', 'change_MASTER_CLASSES_ATTENDED']"
   ]
  },
  {
   "cell_type": "code",
   "execution_count": 65,
   "metadata": {},
   "outputs": [],
   "source": [
    "# preparing explanatory variable data\n",
    "chef_explanatory = chef.loc[:, x_variables]\n",
    "\n",
    "# preparing response variable data\n",
    "chef_target =chef.loc[:, 'REVENUE']\n"
   ]
  },
  {
   "cell_type": "code",
   "execution_count": 66,
   "metadata": {},
   "outputs": [
    {
     "data": {
      "text/plain": [
       "(1946, 60)"
      ]
     },
     "execution_count": 66,
     "metadata": {},
     "output_type": "execute_result"
    }
   ],
   "source": [
    "chef_explanatory.shape"
   ]
  },
  {
   "cell_type": "code",
   "execution_count": 67,
   "metadata": {},
   "outputs": [],
   "source": [
    "chef_target =chef.loc[:, 'REVENUE'].astype(int)   #sklearn默认的y的类型必须是整数型，如果y是float类型，转换一下应该就好了"
   ]
  },
  {
   "cell_type": "code",
   "execution_count": 68,
   "metadata": {},
   "outputs": [
    {
     "data": {
      "text/plain": [
       "numpy.int32"
      ]
     },
     "execution_count": 68,
     "metadata": {},
     "output_type": "execute_result"
    }
   ],
   "source": [
    "type(chef_target[2]) #检查y的类型"
   ]
  },
  {
   "cell_type": "markdown",
   "metadata": {},
   "source": [
    "***\n",
    "***\n",
    "\n",
    "<h3>Part III - Distance Standardization </h3> <br>\n",
    "\n",
    "Transform the explanatory variables of a dataset so that they are standardized, or put into a form where each feature's variance is measured on the same scale. In general, distance-based algorithms (i.e. KNN) perform much better after standardization. "
   ]
  },
  {
   "cell_type": "markdown",
   "metadata": {},
   "source": [
    "Standard Scaler:<br>\n",
    "Instantiate<br>\n",
    "Fit<br>\n",
    "Transform<br>\n",
    "Convert<br>"
   ]
  },
  {
   "cell_type": "code",
   "execution_count": 69,
   "metadata": {
    "scrolled": true
   },
   "outputs": [
    {
     "data": {
      "text/html": [
       "<div>\n",
       "<style scoped>\n",
       "    .dataframe tbody tr th:only-of-type {\n",
       "        vertical-align: middle;\n",
       "    }\n",
       "\n",
       "    .dataframe tbody tr th {\n",
       "        vertical-align: top;\n",
       "    }\n",
       "\n",
       "    .dataframe thead th {\n",
       "        text-align: right;\n",
       "    }\n",
       "</style>\n",
       "<table border=\"1\" class=\"dataframe\">\n",
       "  <thead>\n",
       "    <tr style=\"text-align: right;\">\n",
       "      <th></th>\n",
       "      <th>0</th>\n",
       "      <th>1</th>\n",
       "      <th>2</th>\n",
       "      <th>3</th>\n",
       "      <th>4</th>\n",
       "      <th>5</th>\n",
       "      <th>6</th>\n",
       "      <th>7</th>\n",
       "      <th>8</th>\n",
       "      <th>9</th>\n",
       "      <th>10</th>\n",
       "      <th>11</th>\n",
       "      <th>12</th>\n",
       "      <th>13</th>\n",
       "      <th>14</th>\n",
       "      <th>15</th>\n",
       "      <th>16</th>\n",
       "      <th>17</th>\n",
       "      <th>18</th>\n",
       "      <th>19</th>\n",
       "      <th>20</th>\n",
       "      <th>21</th>\n",
       "      <th>22</th>\n",
       "      <th>23</th>\n",
       "      <th>24</th>\n",
       "      <th>25</th>\n",
       "      <th>26</th>\n",
       "      <th>27</th>\n",
       "      <th>28</th>\n",
       "      <th>29</th>\n",
       "      <th>30</th>\n",
       "      <th>31</th>\n",
       "      <th>32</th>\n",
       "      <th>33</th>\n",
       "      <th>34</th>\n",
       "      <th>35</th>\n",
       "      <th>36</th>\n",
       "      <th>37</th>\n",
       "      <th>38</th>\n",
       "      <th>39</th>\n",
       "      <th>40</th>\n",
       "      <th>41</th>\n",
       "      <th>42</th>\n",
       "      <th>43</th>\n",
       "      <th>44</th>\n",
       "      <th>45</th>\n",
       "      <th>46</th>\n",
       "      <th>47</th>\n",
       "      <th>48</th>\n",
       "      <th>49</th>\n",
       "      <th>50</th>\n",
       "      <th>51</th>\n",
       "      <th>52</th>\n",
       "      <th>53</th>\n",
       "      <th>54</th>\n",
       "      <th>55</th>\n",
       "      <th>56</th>\n",
       "      <th>57</th>\n",
       "      <th>58</th>\n",
       "      <th>59</th>\n",
       "    </tr>\n",
       "  </thead>\n",
       "  <tbody>\n",
       "    <tr>\n",
       "      <th>count</th>\n",
       "      <td>1946.00</td>\n",
       "      <td>1946.00</td>\n",
       "      <td>1946.00</td>\n",
       "      <td>1946.00</td>\n",
       "      <td>1946.00</td>\n",
       "      <td>1946.00</td>\n",
       "      <td>1946.00</td>\n",
       "      <td>1946.00</td>\n",
       "      <td>1946.00</td>\n",
       "      <td>1946.00</td>\n",
       "      <td>1946.00</td>\n",
       "      <td>1946.00</td>\n",
       "      <td>1946.00</td>\n",
       "      <td>1946.00</td>\n",
       "      <td>1946.00</td>\n",
       "      <td>1946.00</td>\n",
       "      <td>1946.00</td>\n",
       "      <td>1946.00</td>\n",
       "      <td>1946.00</td>\n",
       "      <td>1946.00</td>\n",
       "      <td>1946.00</td>\n",
       "      <td>1946.00</td>\n",
       "      <td>1946.00</td>\n",
       "      <td>1946.00</td>\n",
       "      <td>1946.00</td>\n",
       "      <td>1946.00</td>\n",
       "      <td>1946.00</td>\n",
       "      <td>1946.0</td>\n",
       "      <td>1946.00</td>\n",
       "      <td>1946.00</td>\n",
       "      <td>1946.00</td>\n",
       "      <td>1946.00</td>\n",
       "      <td>1946.00</td>\n",
       "      <td>1946.00</td>\n",
       "      <td>1946.00</td>\n",
       "      <td>1946.00</td>\n",
       "      <td>1946.00</td>\n",
       "      <td>1946.00</td>\n",
       "      <td>1946.00</td>\n",
       "      <td>1946.00</td>\n",
       "      <td>1946.00</td>\n",
       "      <td>1946.00</td>\n",
       "      <td>1946.00</td>\n",
       "      <td>1946.00</td>\n",
       "      <td>1946.00</td>\n",
       "      <td>1946.00</td>\n",
       "      <td>1946.00</td>\n",
       "      <td>1946.00</td>\n",
       "      <td>1946.0</td>\n",
       "      <td>1946.00</td>\n",
       "      <td>1946.00</td>\n",
       "      <td>1946.00</td>\n",
       "      <td>1946.00</td>\n",
       "      <td>1946.00</td>\n",
       "      <td>1946.00</td>\n",
       "      <td>1946.00</td>\n",
       "      <td>1946.00</td>\n",
       "      <td>1946.00</td>\n",
       "      <td>1946.00</td>\n",
       "      <td>1946.00</td>\n",
       "    </tr>\n",
       "    <tr>\n",
       "      <th>mean</th>\n",
       "      <td>-0.00</td>\n",
       "      <td>0.00</td>\n",
       "      <td>-0.00</td>\n",
       "      <td>0.00</td>\n",
       "      <td>-0.00</td>\n",
       "      <td>-0.00</td>\n",
       "      <td>0.00</td>\n",
       "      <td>-0.00</td>\n",
       "      <td>-0.00</td>\n",
       "      <td>-0.00</td>\n",
       "      <td>-0.00</td>\n",
       "      <td>-0.00</td>\n",
       "      <td>-0.00</td>\n",
       "      <td>0.00</td>\n",
       "      <td>0.00</td>\n",
       "      <td>0.00</td>\n",
       "      <td>0.00</td>\n",
       "      <td>0.00</td>\n",
       "      <td>0.00</td>\n",
       "      <td>-0.00</td>\n",
       "      <td>-0.00</td>\n",
       "      <td>0.00</td>\n",
       "      <td>-0.00</td>\n",
       "      <td>-0.00</td>\n",
       "      <td>-0.00</td>\n",
       "      <td>0.00</td>\n",
       "      <td>-0.00</td>\n",
       "      <td>0.0</td>\n",
       "      <td>0.00</td>\n",
       "      <td>0.00</td>\n",
       "      <td>-0.00</td>\n",
       "      <td>0.00</td>\n",
       "      <td>-0.00</td>\n",
       "      <td>-0.00</td>\n",
       "      <td>-0.00</td>\n",
       "      <td>-0.00</td>\n",
       "      <td>-0.00</td>\n",
       "      <td>0.00</td>\n",
       "      <td>-0.00</td>\n",
       "      <td>-0.00</td>\n",
       "      <td>-0.00</td>\n",
       "      <td>-0.00</td>\n",
       "      <td>0.00</td>\n",
       "      <td>0.00</td>\n",
       "      <td>-0.00</td>\n",
       "      <td>0.00</td>\n",
       "      <td>-0.00</td>\n",
       "      <td>-0.00</td>\n",
       "      <td>0.0</td>\n",
       "      <td>0.00</td>\n",
       "      <td>-0.00</td>\n",
       "      <td>0.00</td>\n",
       "      <td>-0.00</td>\n",
       "      <td>-0.00</td>\n",
       "      <td>-0.00</td>\n",
       "      <td>-0.00</td>\n",
       "      <td>-0.00</td>\n",
       "      <td>-0.00</td>\n",
       "      <td>-0.00</td>\n",
       "      <td>-0.00</td>\n",
       "    </tr>\n",
       "    <tr>\n",
       "      <th>std</th>\n",
       "      <td>1.00</td>\n",
       "      <td>1.00</td>\n",
       "      <td>1.00</td>\n",
       "      <td>1.00</td>\n",
       "      <td>1.00</td>\n",
       "      <td>1.00</td>\n",
       "      <td>1.00</td>\n",
       "      <td>1.00</td>\n",
       "      <td>1.00</td>\n",
       "      <td>1.00</td>\n",
       "      <td>1.00</td>\n",
       "      <td>1.00</td>\n",
       "      <td>1.00</td>\n",
       "      <td>1.00</td>\n",
       "      <td>1.00</td>\n",
       "      <td>1.00</td>\n",
       "      <td>1.00</td>\n",
       "      <td>1.00</td>\n",
       "      <td>1.00</td>\n",
       "      <td>1.00</td>\n",
       "      <td>1.00</td>\n",
       "      <td>1.00</td>\n",
       "      <td>1.00</td>\n",
       "      <td>1.00</td>\n",
       "      <td>1.00</td>\n",
       "      <td>1.00</td>\n",
       "      <td>1.00</td>\n",
       "      <td>1.0</td>\n",
       "      <td>1.00</td>\n",
       "      <td>1.00</td>\n",
       "      <td>1.00</td>\n",
       "      <td>1.00</td>\n",
       "      <td>1.00</td>\n",
       "      <td>1.00</td>\n",
       "      <td>1.00</td>\n",
       "      <td>1.00</td>\n",
       "      <td>1.00</td>\n",
       "      <td>1.00</td>\n",
       "      <td>1.00</td>\n",
       "      <td>1.00</td>\n",
       "      <td>1.00</td>\n",
       "      <td>1.00</td>\n",
       "      <td>1.00</td>\n",
       "      <td>1.00</td>\n",
       "      <td>1.00</td>\n",
       "      <td>1.00</td>\n",
       "      <td>1.00</td>\n",
       "      <td>1.00</td>\n",
       "      <td>1.0</td>\n",
       "      <td>1.00</td>\n",
       "      <td>1.00</td>\n",
       "      <td>1.00</td>\n",
       "      <td>1.00</td>\n",
       "      <td>1.00</td>\n",
       "      <td>1.00</td>\n",
       "      <td>1.00</td>\n",
       "      <td>1.00</td>\n",
       "      <td>1.00</td>\n",
       "      <td>1.00</td>\n",
       "      <td>1.00</td>\n",
       "    </tr>\n",
       "    <tr>\n",
       "      <th>min</th>\n",
       "      <td>-1.45</td>\n",
       "      <td>-1.15</td>\n",
       "      <td>-1.56</td>\n",
       "      <td>-2.62</td>\n",
       "      <td>-1.44</td>\n",
       "      <td>-1.43</td>\n",
       "      <td>-2.68</td>\n",
       "      <td>-0.91</td>\n",
       "      <td>-0.38</td>\n",
       "      <td>-1.58</td>\n",
       "      <td>-2.61</td>\n",
       "      <td>-2.80</td>\n",
       "      <td>-0.83</td>\n",
       "      <td>-0.64</td>\n",
       "      <td>-1.08</td>\n",
       "      <td>-0.74</td>\n",
       "      <td>-0.36</td>\n",
       "      <td>-1.33</td>\n",
       "      <td>-2.37</td>\n",
       "      <td>-2.86</td>\n",
       "      <td>-0.94</td>\n",
       "      <td>-2.37</td>\n",
       "      <td>-3.65</td>\n",
       "      <td>-0.59</td>\n",
       "      <td>-0.16</td>\n",
       "      <td>-1.07</td>\n",
       "      <td>-0.17</td>\n",
       "      <td>-0.5</td>\n",
       "      <td>-0.89</td>\n",
       "      <td>-0.58</td>\n",
       "      <td>-0.23</td>\n",
       "      <td>-0.58</td>\n",
       "      <td>-1.12</td>\n",
       "      <td>-0.39</td>\n",
       "      <td>-0.08</td>\n",
       "      <td>-0.41</td>\n",
       "      <td>-8.28</td>\n",
       "      <td>-4.68</td>\n",
       "      <td>-1.22</td>\n",
       "      <td>-0.56</td>\n",
       "      <td>-2.44</td>\n",
       "      <td>-0.31</td>\n",
       "      <td>-0.10</td>\n",
       "      <td>-0.41</td>\n",
       "      <td>-0.07</td>\n",
       "      <td>-0.10</td>\n",
       "      <td>-0.04</td>\n",
       "      <td>-0.04</td>\n",
       "      <td>-0.5</td>\n",
       "      <td>-0.14</td>\n",
       "      <td>-0.09</td>\n",
       "      <td>-0.13</td>\n",
       "      <td>-0.06</td>\n",
       "      <td>-0.09</td>\n",
       "      <td>-0.06</td>\n",
       "      <td>-0.21</td>\n",
       "      <td>-0.51</td>\n",
       "      <td>-0.35</td>\n",
       "      <td>-1.19</td>\n",
       "      <td>-0.89</td>\n",
       "    </tr>\n",
       "    <tr>\n",
       "      <th>25%</th>\n",
       "      <td>-1.45</td>\n",
       "      <td>-0.64</td>\n",
       "      <td>-0.76</td>\n",
       "      <td>-0.87</td>\n",
       "      <td>-0.78</td>\n",
       "      <td>-0.44</td>\n",
       "      <td>0.37</td>\n",
       "      <td>-0.91</td>\n",
       "      <td>-0.38</td>\n",
       "      <td>-1.58</td>\n",
       "      <td>-0.89</td>\n",
       "      <td>-0.90</td>\n",
       "      <td>-0.76</td>\n",
       "      <td>-0.64</td>\n",
       "      <td>-0.72</td>\n",
       "      <td>-0.74</td>\n",
       "      <td>-0.36</td>\n",
       "      <td>-0.96</td>\n",
       "      <td>-0.73</td>\n",
       "      <td>-0.93</td>\n",
       "      <td>-0.94</td>\n",
       "      <td>-1.05</td>\n",
       "      <td>-0.65</td>\n",
       "      <td>-0.59</td>\n",
       "      <td>-0.16</td>\n",
       "      <td>-1.07</td>\n",
       "      <td>-0.17</td>\n",
       "      <td>-0.5</td>\n",
       "      <td>-0.89</td>\n",
       "      <td>-0.58</td>\n",
       "      <td>-0.23</td>\n",
       "      <td>-0.58</td>\n",
       "      <td>-1.12</td>\n",
       "      <td>-0.39</td>\n",
       "      <td>-0.08</td>\n",
       "      <td>-0.41</td>\n",
       "      <td>0.12</td>\n",
       "      <td>0.21</td>\n",
       "      <td>-1.22</td>\n",
       "      <td>-0.56</td>\n",
       "      <td>0.41</td>\n",
       "      <td>-0.31</td>\n",
       "      <td>-0.10</td>\n",
       "      <td>-0.41</td>\n",
       "      <td>-0.07</td>\n",
       "      <td>-0.10</td>\n",
       "      <td>-0.04</td>\n",
       "      <td>-0.04</td>\n",
       "      <td>-0.5</td>\n",
       "      <td>-0.14</td>\n",
       "      <td>-0.09</td>\n",
       "      <td>-0.13</td>\n",
       "      <td>-0.06</td>\n",
       "      <td>-0.09</td>\n",
       "      <td>-0.06</td>\n",
       "      <td>-0.21</td>\n",
       "      <td>-0.51</td>\n",
       "      <td>-0.35</td>\n",
       "      <td>-1.19</td>\n",
       "      <td>-0.89</td>\n",
       "    </tr>\n",
       "    <tr>\n",
       "      <th>50%</th>\n",
       "      <td>0.69</td>\n",
       "      <td>-0.26</td>\n",
       "      <td>0.04</td>\n",
       "      <td>0.01</td>\n",
       "      <td>-0.13</td>\n",
       "      <td>-0.09</td>\n",
       "      <td>0.37</td>\n",
       "      <td>-0.26</td>\n",
       "      <td>-0.38</td>\n",
       "      <td>0.63</td>\n",
       "      <td>0.83</td>\n",
       "      <td>-0.90</td>\n",
       "      <td>-0.32</td>\n",
       "      <td>-0.64</td>\n",
       "      <td>-0.35</td>\n",
       "      <td>-0.74</td>\n",
       "      <td>-0.36</td>\n",
       "      <td>-0.20</td>\n",
       "      <td>-0.10</td>\n",
       "      <td>-0.28</td>\n",
       "      <td>0.62</td>\n",
       "      <td>0.27</td>\n",
       "      <td>-0.22</td>\n",
       "      <td>-0.59</td>\n",
       "      <td>-0.16</td>\n",
       "      <td>0.21</td>\n",
       "      <td>-0.17</td>\n",
       "      <td>-0.5</td>\n",
       "      <td>-0.89</td>\n",
       "      <td>-0.58</td>\n",
       "      <td>-0.23</td>\n",
       "      <td>-0.58</td>\n",
       "      <td>0.89</td>\n",
       "      <td>-0.39</td>\n",
       "      <td>-0.08</td>\n",
       "      <td>-0.41</td>\n",
       "      <td>0.12</td>\n",
       "      <td>0.21</td>\n",
       "      <td>0.82</td>\n",
       "      <td>-0.56</td>\n",
       "      <td>0.41</td>\n",
       "      <td>-0.31</td>\n",
       "      <td>-0.10</td>\n",
       "      <td>-0.41</td>\n",
       "      <td>-0.07</td>\n",
       "      <td>-0.10</td>\n",
       "      <td>-0.04</td>\n",
       "      <td>-0.04</td>\n",
       "      <td>-0.5</td>\n",
       "      <td>-0.14</td>\n",
       "      <td>-0.09</td>\n",
       "      <td>-0.13</td>\n",
       "      <td>-0.06</td>\n",
       "      <td>-0.09</td>\n",
       "      <td>-0.06</td>\n",
       "      <td>-0.21</td>\n",
       "      <td>-0.51</td>\n",
       "      <td>-0.35</td>\n",
       "      <td>0.84</td>\n",
       "      <td>-0.89</td>\n",
       "    </tr>\n",
       "    <tr>\n",
       "      <th>75%</th>\n",
       "      <td>0.69</td>\n",
       "      <td>0.37</td>\n",
       "      <td>0.84</td>\n",
       "      <td>0.45</td>\n",
       "      <td>0.86</td>\n",
       "      <td>0.28</td>\n",
       "      <td>0.37</td>\n",
       "      <td>0.38</td>\n",
       "      <td>-0.38</td>\n",
       "      <td>0.63</td>\n",
       "      <td>0.83</td>\n",
       "      <td>0.99</td>\n",
       "      <td>0.12</td>\n",
       "      <td>0.65</td>\n",
       "      <td>0.38</td>\n",
       "      <td>1.35</td>\n",
       "      <td>-0.36</td>\n",
       "      <td>0.93</td>\n",
       "      <td>0.47</td>\n",
       "      <td>0.36</td>\n",
       "      <td>0.62</td>\n",
       "      <td>0.27</td>\n",
       "      <td>0.64</td>\n",
       "      <td>0.37</td>\n",
       "      <td>-0.16</td>\n",
       "      <td>0.21</td>\n",
       "      <td>-0.17</td>\n",
       "      <td>-0.5</td>\n",
       "      <td>1.12</td>\n",
       "      <td>1.73</td>\n",
       "      <td>-0.23</td>\n",
       "      <td>1.15</td>\n",
       "      <td>0.89</td>\n",
       "      <td>-0.39</td>\n",
       "      <td>-0.08</td>\n",
       "      <td>-0.41</td>\n",
       "      <td>0.12</td>\n",
       "      <td>0.21</td>\n",
       "      <td>0.82</td>\n",
       "      <td>-0.56</td>\n",
       "      <td>0.41</td>\n",
       "      <td>-0.31</td>\n",
       "      <td>-0.10</td>\n",
       "      <td>-0.41</td>\n",
       "      <td>-0.07</td>\n",
       "      <td>-0.10</td>\n",
       "      <td>-0.04</td>\n",
       "      <td>-0.04</td>\n",
       "      <td>-0.5</td>\n",
       "      <td>-0.14</td>\n",
       "      <td>-0.09</td>\n",
       "      <td>-0.13</td>\n",
       "      <td>-0.06</td>\n",
       "      <td>-0.09</td>\n",
       "      <td>-0.06</td>\n",
       "      <td>-0.21</td>\n",
       "      <td>-0.51</td>\n",
       "      <td>-0.35</td>\n",
       "      <td>0.84</td>\n",
       "      <td>1.13</td>\n",
       "    </tr>\n",
       "    <tr>\n",
       "      <th>max</th>\n",
       "      <td>0.69</td>\n",
       "      <td>7.57</td>\n",
       "      <td>5.63</td>\n",
       "      <td>4.83</td>\n",
       "      <td>1.52</td>\n",
       "      <td>24.81</td>\n",
       "      <td>0.37</td>\n",
       "      <td>7.48</td>\n",
       "      <td>6.56</td>\n",
       "      <td>0.63</td>\n",
       "      <td>2.56</td>\n",
       "      <td>2.89</td>\n",
       "      <td>3.00</td>\n",
       "      <td>3.24</td>\n",
       "      <td>5.84</td>\n",
       "      <td>1.35</td>\n",
       "      <td>2.80</td>\n",
       "      <td>2.05</td>\n",
       "      <td>8.37</td>\n",
       "      <td>4.23</td>\n",
       "      <td>3.73</td>\n",
       "      <td>2.92</td>\n",
       "      <td>2.35</td>\n",
       "      <td>8.25</td>\n",
       "      <td>6.36</td>\n",
       "      <td>5.35</td>\n",
       "      <td>5.81</td>\n",
       "      <td>2.0</td>\n",
       "      <td>1.12</td>\n",
       "      <td>1.73</td>\n",
       "      <td>4.32</td>\n",
       "      <td>1.73</td>\n",
       "      <td>0.89</td>\n",
       "      <td>2.55</td>\n",
       "      <td>12.19</td>\n",
       "      <td>2.43</td>\n",
       "      <td>0.12</td>\n",
       "      <td>0.21</td>\n",
       "      <td>0.82</td>\n",
       "      <td>1.78</td>\n",
       "      <td>0.41</td>\n",
       "      <td>3.27</td>\n",
       "      <td>10.07</td>\n",
       "      <td>2.42</td>\n",
       "      <td>14.67</td>\n",
       "      <td>9.81</td>\n",
       "      <td>25.45</td>\n",
       "      <td>25.45</td>\n",
       "      <td>2.0</td>\n",
       "      <td>7.39</td>\n",
       "      <td>11.35</td>\n",
       "      <td>7.61</td>\n",
       "      <td>17.98</td>\n",
       "      <td>11.75</td>\n",
       "      <td>17.98</td>\n",
       "      <td>4.68</td>\n",
       "      <td>1.94</td>\n",
       "      <td>2.84</td>\n",
       "      <td>0.84</td>\n",
       "      <td>1.13</td>\n",
       "    </tr>\n",
       "  </tbody>\n",
       "</table>\n",
       "</div>"
      ],
      "text/plain": [
       "            0        1        2        3        4        5        6        7        8        9        10       11       12       13       14       15       16       17       18       19       20       21       22       23       24       25       26      27       28       29       30       31       32       33       34       35       36       37       38       39       40       41       42       43       44       45       46       47      48       49       50       51       52       53       54       55       56       57       58       59\n",
       "count  1946.00  1946.00  1946.00  1946.00  1946.00  1946.00  1946.00  1946.00  1946.00  1946.00  1946.00  1946.00  1946.00  1946.00  1946.00  1946.00  1946.00  1946.00  1946.00  1946.00  1946.00  1946.00  1946.00  1946.00  1946.00  1946.00  1946.00  1946.0  1946.00  1946.00  1946.00  1946.00  1946.00  1946.00  1946.00  1946.00  1946.00  1946.00  1946.00  1946.00  1946.00  1946.00  1946.00  1946.00  1946.00  1946.00  1946.00  1946.00  1946.0  1946.00  1946.00  1946.00  1946.00  1946.00  1946.00  1946.00  1946.00  1946.00  1946.00  1946.00\n",
       "mean     -0.00     0.00    -0.00     0.00    -0.00    -0.00     0.00    -0.00    -0.00    -0.00    -0.00    -0.00    -0.00     0.00     0.00     0.00     0.00     0.00     0.00    -0.00    -0.00     0.00    -0.00    -0.00    -0.00     0.00    -0.00     0.0     0.00     0.00    -0.00     0.00    -0.00    -0.00    -0.00    -0.00    -0.00     0.00    -0.00    -0.00    -0.00    -0.00     0.00     0.00    -0.00     0.00    -0.00    -0.00     0.0     0.00    -0.00     0.00    -0.00    -0.00    -0.00    -0.00    -0.00    -0.00    -0.00    -0.00\n",
       "std       1.00     1.00     1.00     1.00     1.00     1.00     1.00     1.00     1.00     1.00     1.00     1.00     1.00     1.00     1.00     1.00     1.00     1.00     1.00     1.00     1.00     1.00     1.00     1.00     1.00     1.00     1.00     1.0     1.00     1.00     1.00     1.00     1.00     1.00     1.00     1.00     1.00     1.00     1.00     1.00     1.00     1.00     1.00     1.00     1.00     1.00     1.00     1.00     1.0     1.00     1.00     1.00     1.00     1.00     1.00     1.00     1.00     1.00     1.00     1.00\n",
       "min      -1.45    -1.15    -1.56    -2.62    -1.44    -1.43    -2.68    -0.91    -0.38    -1.58    -2.61    -2.80    -0.83    -0.64    -1.08    -0.74    -0.36    -1.33    -2.37    -2.86    -0.94    -2.37    -3.65    -0.59    -0.16    -1.07    -0.17    -0.5    -0.89    -0.58    -0.23    -0.58    -1.12    -0.39    -0.08    -0.41    -8.28    -4.68    -1.22    -0.56    -2.44    -0.31    -0.10    -0.41    -0.07    -0.10    -0.04    -0.04    -0.5    -0.14    -0.09    -0.13    -0.06    -0.09    -0.06    -0.21    -0.51    -0.35    -1.19    -0.89\n",
       "25%      -1.45    -0.64    -0.76    -0.87    -0.78    -0.44     0.37    -0.91    -0.38    -1.58    -0.89    -0.90    -0.76    -0.64    -0.72    -0.74    -0.36    -0.96    -0.73    -0.93    -0.94    -1.05    -0.65    -0.59    -0.16    -1.07    -0.17    -0.5    -0.89    -0.58    -0.23    -0.58    -1.12    -0.39    -0.08    -0.41     0.12     0.21    -1.22    -0.56     0.41    -0.31    -0.10    -0.41    -0.07    -0.10    -0.04    -0.04    -0.5    -0.14    -0.09    -0.13    -0.06    -0.09    -0.06    -0.21    -0.51    -0.35    -1.19    -0.89\n",
       "50%       0.69    -0.26     0.04     0.01    -0.13    -0.09     0.37    -0.26    -0.38     0.63     0.83    -0.90    -0.32    -0.64    -0.35    -0.74    -0.36    -0.20    -0.10    -0.28     0.62     0.27    -0.22    -0.59    -0.16     0.21    -0.17    -0.5    -0.89    -0.58    -0.23    -0.58     0.89    -0.39    -0.08    -0.41     0.12     0.21     0.82    -0.56     0.41    -0.31    -0.10    -0.41    -0.07    -0.10    -0.04    -0.04    -0.5    -0.14    -0.09    -0.13    -0.06    -0.09    -0.06    -0.21    -0.51    -0.35     0.84    -0.89\n",
       "75%       0.69     0.37     0.84     0.45     0.86     0.28     0.37     0.38    -0.38     0.63     0.83     0.99     0.12     0.65     0.38     1.35    -0.36     0.93     0.47     0.36     0.62     0.27     0.64     0.37    -0.16     0.21    -0.17    -0.5     1.12     1.73    -0.23     1.15     0.89    -0.39    -0.08    -0.41     0.12     0.21     0.82    -0.56     0.41    -0.31    -0.10    -0.41    -0.07    -0.10    -0.04    -0.04    -0.5    -0.14    -0.09    -0.13    -0.06    -0.09    -0.06    -0.21    -0.51    -0.35     0.84     1.13\n",
       "max       0.69     7.57     5.63     4.83     1.52    24.81     0.37     7.48     6.56     0.63     2.56     2.89     3.00     3.24     5.84     1.35     2.80     2.05     8.37     4.23     3.73     2.92     2.35     8.25     6.36     5.35     5.81     2.0     1.12     1.73     4.32     1.73     0.89     2.55    12.19     2.43     0.12     0.21     0.82     1.78     0.41     3.27    10.07     2.42    14.67     9.81    25.45    25.45     2.0     7.39    11.35     7.61    17.98    11.75    17.98     4.68     1.94     2.84     0.84     1.13"
      ]
     },
     "execution_count": 69,
     "metadata": {},
     "output_type": "execute_result"
    }
   ],
   "source": [
    "# INSTANTIATING a StandardScaler() object\n",
    "scaler = StandardScaler()\n",
    "\n",
    "\n",
    "# FITTING the scaler with housing_data\n",
    "scaler.fit(chef_explanatory)\n",
    "\n",
    "\n",
    "# TRANSFORMING our data after fit\n",
    "X_scaled = scaler.transform(chef_explanatory)\n",
    "\n",
    "\n",
    "# converting scaled data into a DataFrame\n",
    "X_scaled_df = pd.DataFrame(X_scaled)\n",
    "\n",
    "\n",
    "# checking the results\n",
    "X_scaled_df.describe().round(2)"
   ]
  },
  {
   "cell_type": "markdown",
   "metadata": {},
   "source": [
    "Notice that we've lost the column labels. Let's add them back and analyze the variance before and after scaling."
   ]
  },
  {
   "cell_type": "code",
   "execution_count": 70,
   "metadata": {
    "scrolled": false
   },
   "outputs": [],
   "source": [
    "# adding labels to the scaled DataFrame\n",
    "X_scaled_df.columns = chef_explanatory.columns\n",
    "\n",
    "# #  Checking pre- and post-scaling of the data\n",
    "# print(f\"\"\"\n",
    "# Dataset BEFORE Scaling\n",
    "# ----------------------\n",
    "# {pd.np.var(chef_explanatory)}\n",
    "\n",
    "\n",
    "# Dataset AFTER Scaling\n",
    "# ----------------------\n",
    "# {pd.np.var(X_scaled_df)}\n",
    "# \"\"\")"
   ]
  },
  {
   "cell_type": "markdown",
   "metadata": {},
   "source": [
    "***\n",
    "***\n",
    "\n",
    "<h3>Part IV - Training and Testing Sets </h3> <br>\n",
    "Purpose: we need to set aside a portion of our data before training our model (known as a testing or validation set). After training, we can use this set to see how our algorithm performs on new data.<br>\n"
   ]
  },
  {
   "cell_type": "code",
   "execution_count": 71,
   "metadata": {},
   "outputs": [
    {
     "name": "stdout",
     "output_type": "stream",
     "text": [
      "(1459, 60)\n",
      "(1459,)\n",
      "(487, 60)\n",
      "(487,)\n"
     ]
    }
   ],
   "source": [
    "# Develop training and testing sets using the standardized dataset.\n",
    "X_train, X_test, y_train, y_test = train_test_split(\n",
    "            X_scaled_df,\n",
    "            chef_target,\n",
    "            test_size = 0.25,\n",
    "            random_state = 222)\n",
    "print(X_train.shape)\n",
    "print(y_train.shape)\n",
    "\n",
    "# Testing set\n",
    "print(X_test.shape)\n",
    "print(y_test.shape)"
   ]
  },
  {
   "cell_type": "markdown",
   "metadata": {},
   "source": [
    "***\n",
    "***\n",
    "\n",
    "<h3>Part V - Model Building </h3> <br>\n",
    "<h4>1. KNN Model</h4><br>\n"
   ]
  },
  {
   "cell_type": "markdown",
   "metadata": {},
   "source": [
    "#################################################################################\n",
    "Final Model (instantiate, fit, and predict)\n",
    "################################################################################"
   ]
  },
  {
   "cell_type": "markdown",
   "metadata": {},
   "source": [
    "Use a loop and visually inspect the optimal value for k"
   ]
  },
  {
   "cell_type": "code",
   "execution_count": 72,
   "metadata": {},
   "outputs": [
    {
     "data": {
      "image/png": "[encoded data removed]",
      "text/plain": [
       "<Figure size 864x576 with 1 Axes>"
      ]
     },
     "metadata": {
      "needs_background": "light"
     },
     "output_type": "display_data"
    }
   ],
   "source": [
    "# creating lists for training set accuracy and test set accuracy\n",
    "training_accuracy = []\n",
    "test_accuracy = []\n",
    "\n",
    "\n",
    "# building a visualization of 1 to 50 neighbors\n",
    "neighbors_settings = range(1, 15)\n",
    "\n",
    "\n",
    "for n_neighbors in neighbors_settings:\n",
    "    # Building the model\n",
    "    clf = KNeighborsRegressor(n_neighbors = n_neighbors)\n",
    "    clf.fit(X_train, y_train)\n",
    "    \n",
    "    # Recording the training set accuracy\n",
    "    training_accuracy.append(clf.score(X_train, y_train))\n",
    "    \n",
    "    # Recording the generalization accuracy\n",
    "    test_accuracy.append(clf.score(X_test, y_test))\n",
    "\n",
    "\n",
    "# plotting the visualization\n",
    "fig, ax = plt.subplots(figsize=(12,8))\n",
    "plt.plot(neighbors_settings, training_accuracy, label = \"training accuracy\")\n",
    "plt.plot(neighbors_settings, test_accuracy, label = \"test accuracy\")\n",
    "plt.ylabel(\"Accuracy\")\n",
    "plt.xlabel(\"n_neighbors\")\n",
    "plt.legend()\n",
    "plt.show()"
   ]
  },
  {
   "cell_type": "code",
   "execution_count": 73,
   "metadata": {},
   "outputs": [
    {
     "name": "stdout",
     "output_type": "stream",
     "text": [
      "The optimal number of neighbors is 14\n"
     ]
    }
   ],
   "source": [
    "# finding the optimal number of neighbors\n",
    "opt_neighbors = test_accuracy.index(max(test_accuracy)) + 1           # +1因为index start 0\n",
    "print(f\"\"\"The optimal number of neighbors is {opt_neighbors}\"\"\")"
   ]
  },
  {
   "cell_type": "code",
   "execution_count": 74,
   "metadata": {},
   "outputs": [
    {
     "name": "stdout",
     "output_type": "stream",
     "text": [
      "Training Score: 0.6515\n",
      "Testing Score: 0.5045\n"
     ]
    }
   ],
   "source": [
    "# INSTANTIATING a model with the optimal number of neighbors\n",
    "knn_opt = KNeighborsRegressor(algorithm ='auto',  \n",
    "                n_neighbors = opt_neighbors) \n",
    "\n",
    "\n",
    "\n",
    "# FITTING the model based on the training data\n",
    "knn_opt.fit(X_train, y_train)\n",
    "\n",
    "\n",
    "\n",
    "# PREDITCING on new data\n",
    "knn_opt_pred = knn_opt.predict(X_test)\n",
    "\n",
    "\n",
    "\n",
    "# SCORING the results\n",
    "print('Training Score:', knn_opt.score(X_train, y_train).round(4))\n",
    "print('Testing Score:',  knn_opt.score(X_test, y_test).round(4))\n",
    "\n",
    "\n",
    "# saving scoring data for future use\n",
    "knn_opt_score_train = knn_opt.score(X_train, y_train).round(4)\n",
    "knn_opt_score_test  = knn_opt.score(X_test, y_test).round(4)"
   ]
  },
  {
   "cell_type": "markdown",
   "metadata": {},
   "source": [
    "<br><h4>2. Ordinary Least Squares Regression</h4> \n",
    "Purpose: In order to work with statsmodels, we need to concatenate our training data on the 'x' side (X_train) and our training data on the 'y' side (y_train). Then, we can begin building models and analyze their results.<hr>\n"
   ]
  },
  {
   "cell_type": "code",
   "execution_count": 75,
   "metadata": {},
   "outputs": [],
   "source": [
    "# # formatting each explanatory variable for statsmodels\n",
    "# for val in X_scaled_df:\n",
    "#     print(f\"chef_train['{val}'] +\")"
   ]
  },
  {
   "cell_type": "code",
   "execution_count": 76,
   "metadata": {
    "scrolled": true
   },
   "outputs": [],
   "source": [
    "# # merging X_train and y_train so that they can be used in statsmodels\n",
    "# chef_train = pd.concat([X_train, y_train], axis = 1)\n",
    "\n",
    "\n",
    "# # Step 1: build a model\n",
    "# lm_best = smf.ols(formula =  \"\"\"chef_train['REVENUE'] ~ chef_train['TOTAL_MEALS_ORDERED'] +\n",
    "#                                                         chef_train['UNIQUE_MEALS_PURCH'] +\n",
    "#                                                         chef_train['CONTACTS_W_CUSTOMER_SERVICE'] +\n",
    "#                                                         chef_train['PRODUCT_CATEGORIES_VIEWED'] +\n",
    "#                                                         chef_train['AVG_TIME_PER_SITE_VISIT'] +\n",
    "#                                                         chef_train['MOBILE_NUMBER'] +\n",
    "#                                                         chef_train['CANCELLATIONS_BEFORE_NOON'] +\n",
    "#                                                         chef_train['CANCELLATIONS_AFTER_NOON'] +\n",
    "#                                                         chef_train['TASTES_AND_PREFERENCES'] +\n",
    "#                                                         chef_train['PC_LOGINS'] +\n",
    "#                                                         chef_train['MOBILE_LOGINS'] +\n",
    "#                                                         chef_train['WEEKLY_PLAN'] +\n",
    "#                                                         chef_train['EARLY_DELIVERIES'] +\n",
    "#                                                         chef_train['LATE_DELIVERIES'] +\n",
    "#                                                         chef_train['PACKAGE_LOCKER'] +\n",
    "#                                                         chef_train['REFRIGERATED_LOCKER'] +\n",
    "#                                                         chef_train['FOLLOWED_RECOMMENDATIONS_PCT'] +\n",
    "#                                                         chef_train['AVG_PREP_VID_TIME'] +\n",
    "#                                                         chef_train['LARGEST_ORDER_SIZE'] +\n",
    "#                                                         chef_train['MASTER_CLASSES_ATTENDED'] +\n",
    "#                                                         chef_train['AVG_CLICKS_PER_VISIT'] +\n",
    "#                                                         chef_train['TOTAL_PHOTOS_VIEWED'] +\n",
    "#                                                         chef_train['m_FAMILY_NAME'] +\n",
    "#                                                         chef_train['number_of_names'] +\n",
    "#                                                         chef_train['number_of_names_out'] +\n",
    "#                                                         chef_train['personal_email'] +\n",
    "#                                                         chef_train['professional_email'] +\n",
    "#                                                         chef_train['MEDIAN_MEAL_RATING_1'] +\n",
    "#                                                         chef_train['MEDIAN_MEAL_RATING_2'] +\n",
    "#                                                         chef_train['MEDIAN_MEAL_RATING_4'] +\n",
    "#                                                         chef_train['MEDIAN_MEAL_RATING_5'] +\n",
    "#                                                         chef_train['flag_MOBILE_LOGINS'] +\n",
    "#                                                         chef_train['flag_PC_LOGINS'] +\n",
    "#                                                         chef_train['flag_EARLY_DELIVERIES'] +\n",
    "#                                                         chef_train['flag_WEEKLY_PLAN'] +\n",
    "#                                                         chef_train['flag_CANCELLATIONS_AFTER_NOON'] +\n",
    "#                                                         chef_train['out_TOTAL_MEALS_ORDERED'] +\n",
    "#                                                         chef_train['out_UNIQUE_MEALS_PURCH'] +\n",
    "#                                                         chef_train['out_CONTACTS_W_CUSTOMER_SERVICE_hi'] +\n",
    "#                                                         chef_train['out_CONTACTS_W_CUSTOMER_SERVICE_lo'] +\n",
    "#                                                         chef_train['out_AVG_TIME_PER_SITE_VISIT'] +\n",
    "#                                                         chef_train['out_CANCELLATIONS_BEFORE_NOON'] +\n",
    "#                                                         chef_train['out_CANCELLATIONS_AFTER_NOON'] +\n",
    "#                                                         chef_train['out_WEEKLY_PLAN'] +\n",
    "#                                                         chef_train['out_LATE_DELIVERIES'] +\n",
    "#                                                         chef_train['out_AVG_PREP_VID_TIME'] +\n",
    "#                                                         chef_train['out_LARGEST_ORDER_SIZE'] +\n",
    "#                                                         chef_train['out_MASTER_CLASSES_ATTENDED'] +\n",
    "#                                                         chef_train['out_AVG_CLICKS_PER_VISIT_hi'] +\n",
    "#                                                         chef_train['out_AVG_CLICKS_PER_VISIT_lo'] +\n",
    "#                                                         chef_train['out_TOTAL_PHOTOS_VIEWED'] +\n",
    "#                                                         chef_train['change_LARGEST_ORDER_SIZE'] +\n",
    "#                                                         chef_train['change_TOTAL_MEALS_ORDERED'] +\n",
    "#                                                         chef_train['change_MOBILE_LOGINS'] +\n",
    "#                                                         chef_train['change_MASTER_CLASSES_ATTENDED']\"\"\",\n",
    "#                                                         data = chef_train)\n",
    "\n",
    "\n",
    "\n",
    "# # Step 2: fit the model based on the data\n",
    "# results = lm_best.fit()\n",
    "\n",
    "\n",
    "\n",
    "# # Step 3: analyze the summary output\n",
    "# print(results.summary())"
   ]
  },
  {
   "cell_type": "markdown",
   "metadata": {},
   "source": [
    "<br><h5> Apply OLS regression model in scikit-learn</h5> <br>\n",
    "INSTANTIATE a LinearRegression( ) object<br>\n",
    "FIT the training data to the model object<br>\n",
    "PREDICT using the testing data<br>\n",
    "SCORE your results, rounding to four decimal places<br>"
   ]
  },
  {
   "cell_type": "code",
   "execution_count": 77,
   "metadata": {},
   "outputs": [
    {
     "data": {
      "text/plain": [
       "GridSearchCV(cv=10, error_score=nan,\n",
       "             estimator=LinearRegression(copy_X=True, fit_intercept=True,\n",
       "                                        n_jobs=None, normalize=False),\n",
       "             iid='deprecated', n_jobs=None,\n",
       "             param_grid={'copy_X': [True, False],\n",
       "                         'fit_intercept': [True, False], 'n_jobs': [None, -1],\n",
       "                         'normalize': [True, False]},\n",
       "             pre_dispatch='2*n_jobs', refit=True, return_train_score=False,\n",
       "             scoring=None, verbose=0)"
      ]
     },
     "execution_count": 77,
     "metadata": {},
     "output_type": "execute_result"
    }
   ],
   "source": [
    "from sklearn.model_selection import GridSearchCV\n",
    "from sklearn.metrics import make_scorer\n",
    "from sklearn.metrics import roc_auc_score\n",
    "# creating a hyperparameter grid\n",
    "param_grid = {\n",
    "    'fit_intercept': [True, False],\n",
    "    'normalize': [True, False],\n",
    "    'copy_X': [True, False],\n",
    "    'n_jobs': [None, -1]\n",
    "}\n",
    "\n",
    "# INSTANTIATING the model object without hyperparameters\n",
    "lnreg = LinearRegression()\n",
    "\n",
    "# GridSearchCV object\n",
    "lnreg_cv = GridSearchCV(lnreg,\n",
    "                         param_grid,\n",
    "                         cv=10)\n",
    "\n",
    "# FITTING to the data set (due to cross-validation)\n",
    "lnreg_cv.fit(X_train, y_train)\n",
    "\n",
    "lnreg_cv"
   ]
  },
  {
   "cell_type": "code",
   "execution_count": 78,
   "metadata": {},
   "outputs": [
    {
     "name": "stdout",
     "output_type": "stream",
     "text": [
      "Tuned Parameters  : {'copy_X': True, 'fit_intercept': True, 'n_jobs': None, 'normalize': False}\n",
      "Tuned CV AUC      : 0.66\n"
     ]
    }
   ],
   "source": [
    "# printing the optimal parameters and best score\n",
    "print(\"Tuned Parameters  :\", lnreg_cv.best_params_)\n",
    "print(\"Tuned CV AUC      :\", lnreg_cv.best_score_.round(2))"
   ]
  },
  {
   "cell_type": "code",
   "execution_count": 79,
   "metadata": {},
   "outputs": [
    {
     "name": "stdout",
     "output_type": "stream",
     "text": [
      "Training Score: 0.7164\n",
      "Testing Score: 0.6194\n"
     ]
    }
   ],
   "source": [
    "# applying modelin scikit-learn\n",
    "\n",
    "# INSTANTIATING a model object\n",
    "lr = LinearRegression(**lnreg_cv.best_params_)              #INSTANTIATE \n",
    "\n",
    "\n",
    "# FITTING to the training data\n",
    "lr_fit = lr.fit(X_train, y_train)\n",
    "\n",
    "\n",
    "# PREDICTING on new data\n",
    "lr_pred = lr_fit.predict(X_test)\n",
    "\n",
    "\n",
    "# SCORING the results\n",
    "print('Training Score:', lr.score(X_train, y_train).round(4))\n",
    "print('Testing Score:',  lr.score(X_test,y_test).round(4))\n",
    "lr_train_score = lr.score(X_train, y_train)\n",
    "lr_test_score = lr.score(X_test,y_test)"
   ]
  },
  {
   "cell_type": "markdown",
   "metadata": {},
   "source": [
    "<br><h4>3. Ridge Regression Model</h4> "
   ]
  },
  {
   "cell_type": "code",
   "execution_count": 80,
   "metadata": {},
   "outputs": [
    {
     "name": "stdout",
     "output_type": "stream",
     "text": [
      "Training Score: 0.7164\n",
      "Testing Score: 0.6191\n"
     ]
    }
   ],
   "source": [
    "import sklearn.linear_model # linear models\n",
    "# INSTANTIATING a model object\n",
    "ridge_model = sklearn.linear_model.Ridge()\n",
    "\n",
    "# FITTING the training data\n",
    "ridge_fit  = ridge_model.fit(X_train, y_train)\n",
    "\n",
    "\n",
    "# PREDICTING on new data\n",
    "ridge_pred = ridge_fit.predict(X_test)\n",
    "\n",
    "# SCORING the results\n",
    "print('Training Score:', ridge_model.score(X_train, y_train).round(4))\n",
    "print('Testing Score:',  ridge_model.score(X_test, y_test).round(4))\n",
    "\n",
    "\n",
    "# saving scoring data for future use\n",
    "ridge_train_score = ridge_model.score(X_train, y_train).round(4)\n",
    "ridge_test_score  = ridge_model.score(X_test, y_test).round(4)"
   ]
  },
  {
   "cell_type": "markdown",
   "metadata": {},
   "source": [
    "<br><h4>4.  Lasso Regression Model</h4> "
   ]
  },
  {
   "cell_type": "code",
   "execution_count": 81,
   "metadata": {},
   "outputs": [
    {
     "name": "stdout",
     "output_type": "stream",
     "text": [
      "Training Score: 0.7159\n",
      "Testing Score: 0.621\n"
     ]
    }
   ],
   "source": [
    "# INSTANTIATING a model object\n",
    "lasso_model = sklearn.linear_model.Lasso()\n",
    "\n",
    "# FITTING the training data\n",
    "lasso_fit = lasso_model.fit(X_train, y_train)\n",
    "\n",
    "\n",
    "# PREDICTING on new data\n",
    "lasso_pred = lasso_fit.predict(X_test)\n",
    "\n",
    "print('Training Score:', lasso_model.score(X_train, y_train).round(4))\n",
    "print('Testing Score:',  lasso_model.score(X_test,y_test).round(4))\n",
    "\n",
    "# saving scoring data for future use\n",
    "lasso_train_score = lasso_model.score(X_train, y_train).round(4)\n",
    "lasso_test_score  = lasso_model.score(X_test,y_test).round(4)\n"
   ]
  },
  {
   "cell_type": "markdown",
   "metadata": {},
   "source": [
    "<br><h4>5.  Bayesian ARD Regression Model</h4> "
   ]
  },
  {
   "cell_type": "code",
   "execution_count": 82,
   "metadata": {},
   "outputs": [],
   "source": [
    "# # INSTANTIATING a model object\n",
    "# ard_model = sklearn.linear_model.ARDRegression()\n",
    "\n",
    "\n",
    "# # FITTING the training data\n",
    "# ard_fit = ard_model.fit(X_train, y_train)\n",
    "\n",
    "\n",
    "# # PREDICTING on new data\n",
    "# ard_pred = ard_fit.predict(X_test)\n",
    "\n",
    "\n",
    "# print('Training Score:', ard_model.score(X_train, y_train).round(4))\n",
    "# print('Testing Score:',  ard_model.score(X_test,y_test).round(4))\n",
    "\n",
    "\n",
    "# # saving scoring data for future use\n",
    "# ard_train_score = ard_model.score(X_train, y_train).round(4)\n",
    "# ard_test_score  = ard_model.score(X_test,y_test).round(4)"
   ]
  },
  {
   "cell_type": "markdown",
   "metadata": {},
   "source": [
    "<br><h4>6. Random Forest Regression Model</h4> "
   ]
  },
  {
   "cell_type": "code",
   "execution_count": 83,
   "metadata": {},
   "outputs": [
    {
     "name": "stdout",
     "output_type": "stream",
     "text": [
      "Training Score: 0.9698\n",
      "Testing Score: 0.7481\n"
     ]
    }
   ],
   "source": [
    "\n",
    "rfr = RandomForestRegressor(n_estimators=50,\n",
    "                           warm_start=True,\n",
    "                           bootstrap=True,\n",
    "                           criterion='mse')\n",
    "rfr.fit(X_train, y_train)\n",
    "rfr_pred = rfr.predict(X_test)\n",
    "print('Training Score:', rfr.score(X_train, y_train).round(4))\n",
    "print('Testing Score:',  rfr.score(X_test,y_test).round(4))\n",
    "rfr_train_score = rfr.score(X_train, y_train)\n",
    "rfr_test_score = rfr.score(X_test,y_test)"
   ]
  },
  {
   "cell_type": "markdown",
   "metadata": {},
   "source": [
    "<br><h4>7. GBDT Regression Model</h4> "
   ]
  },
  {
   "cell_type": "code",
   "execution_count": 84,
   "metadata": {},
   "outputs": [
    {
     "name": "stdout",
     "output_type": "stream",
     "text": [
      "Training Score: 0.8376\n",
      "Testing Score: 0.7583\n"
     ]
    }
   ],
   "source": [
    "gbdt = GradientBoostingRegressor(max_depth=2,\n",
    "                                subsample=0.9,\n",
    "                                min_samples_leaf=0.009,\n",
    "                                max_features=0.9,\n",
    "                                n_estimators=65,\n",
    "                                random_state=222)\n",
    "gbdt.fit(X_train, y_train)\n",
    "gbdt_pred = gbdt.predict(X_test)\n",
    "# SCORING the results\n",
    "print('Training Score:', gbdt.score(X_train, y_train).round(4))\n",
    "print('Testing Score:',  gbdt.score(X_test,y_test).round(4))\n",
    "gbdt_train_score = gbdt.score(X_train, y_train)\n",
    "gbdt_test_score = gbdt.score(X_test,y_test)"
   ]
  },
  {
   "cell_type": "markdown",
   "metadata": {},
   "source": [
    "***\n",
    "***\n",
    "\n",
    "<h2>STEP IV: Compare Results</h2> <br>\n",
    "\n",
    "Let's compare the results of each model. In the interest of time, this code has already been written."
   ]
  },
  {
   "cell_type": "code",
   "execution_count": 85,
   "metadata": {},
   "outputs": [
    {
     "data": {
      "text/html": [
       "<div>\n",
       "<style scoped>\n",
       "    .dataframe tbody tr th:only-of-type {\n",
       "        vertical-align: middle;\n",
       "    }\n",
       "\n",
       "    .dataframe tbody tr th {\n",
       "        vertical-align: top;\n",
       "    }\n",
       "\n",
       "    .dataframe thead th {\n",
       "        text-align: right;\n",
       "    }\n",
       "</style>\n",
       "<table border=\"1\" class=\"dataframe\">\n",
       "  <thead>\n",
       "    <tr style=\"text-align: right;\">\n",
       "      <th></th>\n",
       "      <th>Model</th>\n",
       "      <th>Training</th>\n",
       "      <th>Testing</th>\n",
       "    </tr>\n",
       "  </thead>\n",
       "  <tbody>\n",
       "    <tr>\n",
       "      <th>0</th>\n",
       "      <td>knn</td>\n",
       "      <td>0.652</td>\n",
       "      <td>0.504</td>\n",
       "    </tr>\n",
       "    <tr>\n",
       "      <th>1</th>\n",
       "      <td>OLS</td>\n",
       "      <td>0.716</td>\n",
       "      <td>0.619</td>\n",
       "    </tr>\n",
       "    <tr>\n",
       "      <th>2</th>\n",
       "      <td>Ridge</td>\n",
       "      <td>0.716</td>\n",
       "      <td>0.619</td>\n",
       "    </tr>\n",
       "    <tr>\n",
       "      <th>3</th>\n",
       "      <td>Lasso</td>\n",
       "      <td>0.716</td>\n",
       "      <td>0.621</td>\n",
       "    </tr>\n",
       "    <tr>\n",
       "      <th>4</th>\n",
       "      <td>Forest Regression</td>\n",
       "      <td>0.970</td>\n",
       "      <td>0.748</td>\n",
       "    </tr>\n",
       "    <tr>\n",
       "      <th>5</th>\n",
       "      <td>GBDT</td>\n",
       "      <td>0.838</td>\n",
       "      <td>0.758</td>\n",
       "    </tr>\n",
       "  </tbody>\n",
       "</table>\n",
       "</div>"
      ],
      "text/plain": [
       "               Model  Training  Testing\n",
       "0                knn     0.652    0.504\n",
       "1                OLS     0.716    0.619\n",
       "2              Ridge     0.716    0.619\n",
       "3              Lasso     0.716    0.621\n",
       "4  Forest Regression     0.970    0.748\n",
       "5               GBDT     0.838    0.758"
      ]
     },
     "execution_count": 85,
     "metadata": {},
     "output_type": "execute_result"
    }
   ],
   "source": [
    "\n",
    "\n",
    "\n",
    "# creating a dictionary for model results\n",
    "model_performance = {'Model'    : ['knn','OLS', 'Ridge', 'Lasso','Forest Regression','GBDT'],  # 'ARD'\n",
    "           \n",
    "                     'Training' : [knn_opt_score_train,\n",
    "                                   lr_train_score, \n",
    "                                   ridge_train_score,\n",
    "                                   lasso_train_score,\n",
    "                                   rfr_train_score,\n",
    "                                   gbdt_train_score],  # ard_train_score\n",
    "           \n",
    "                     'Testing'  : [knn_opt_score_test,\n",
    "                                   lr_test_score, \n",
    "                                   ridge_test_score,\n",
    "                                   lasso_test_score, \n",
    "                                   rfr_test_score,\n",
    "                                   gbdt_test_score]} # ard_test_score\n",
    "\n",
    "\n",
    "# converting model_performance into a DataFrame\n",
    "model_performance = pd.DataFrame(model_performance)\n",
    "\n",
    "\n",
    "# sending model results to Excel\n",
    "model_performance.to_excel('regression_model_performance.xlsx',\n",
    "                           index = False)\n",
    "\n",
    "# model_performance['Total'] = model_performance['Training'] + model_performance['Testing']\n",
    "# model_performance['Difference'] = abs(model_performance['Training'] - model_performance['Testing'])\n",
    "\n",
    "model_performance.round(3)"
   ]
  },
  {
   "cell_type": "markdown",
   "metadata": {},
   "source": [
    "#################################################################################\n",
    "Final Model Score (score)\n",
    "################################################################################"
   ]
  },
  {
   "cell_type": "code",
   "execution_count": 86,
   "metadata": {},
   "outputs": [
    {
     "data": {
      "text/plain": [
       "0.7583"
      ]
     },
     "execution_count": 86,
     "metadata": {},
     "output_type": "execute_result"
    }
   ],
   "source": [
    "test_score = gbdt.score(X_test,y_test).round(4)\n",
    "test_score"
   ]
  }
 ],
 "metadata": {
  "kernelspec": {
   "display_name": "Python 3",
   "language": "python",
   "name": "python3"
  },
  "language_info": {
   "codemirror_mode": {
    "name": "ipython",
    "version": 3
   },
   "file_extension": ".py",
   "mimetype": "text/x-python",
   "name": "python",
   "nbconvert_exporter": "python",
   "pygments_lexer": "ipython3",
   "version": "3.7.6"
  },
  "toc": {
   "base_numbering": 1,
   "nav_menu": {},
   "number_sections": false,
   "sideBar": true,
   "skip_h1_title": false,
   "title_cell": "Table of Contents",
   "title_sidebar": "Contents",
   "toc_cell": false,
   "toc_position": {
    "height": "calc(100% - 180px)",
    "left": "10px",
    "top": "150px",
    "width": "293px"
   },
   "toc_section_display": true,
   "toc_window_display": true
  },
  "varInspector": {
   "cols": {
    "lenName": 16,
    "lenType": 16,
    "lenVar": 40
   },
   "kernels_config": {
    "python": {
     "delete_cmd_postfix": "",
     "delete_cmd_prefix": "del ",
     "library": "var_list.py",
     "varRefreshCmd": "print(var_dic_list())"
    },
    "r": {
     "delete_cmd_postfix": ") ",
     "delete_cmd_prefix": "rm(",
     "library": "var_list.r",
     "varRefreshCmd": "cat(var_dic_list()) "
    }
   },
   "types_to_exclude": [
    "module",
    "function",
    "builtin_function_or_method",
    "instance",
    "_Feature"
   ],
   "window_display": false
  }
 },
 "nbformat": 4,
 "nbformat_minor": 4
}
